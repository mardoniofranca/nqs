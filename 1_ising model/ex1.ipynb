{
 "cells": [
  {
   "cell_type": "code",
   "execution_count": 1,
   "id": "517fad3c",
   "metadata": {},
   "outputs": [],
   "source": [
    "import os\n",
    "os.environ[\"JAX_PLATFORM_NAME\"] = \"cpu\""
   ]
  },
  {
   "cell_type": "code",
   "execution_count": 2,
   "id": "c68d14fb",
   "metadata": {},
   "outputs": [],
   "source": [
    "import netket as nk\n",
    "\n",
    "N = 20"
   ]
  },
  {
   "cell_type": "code",
   "execution_count": 3,
   "id": "377b499f",
   "metadata": {},
   "outputs": [],
   "source": [
    "hi = nk.hilbert.Spin(s=1 / 2, N=N)"
   ]
  },
  {
   "cell_type": "code",
   "execution_count": 4,
   "id": "1f8aba02",
   "metadata": {},
   "outputs": [
    {
     "data": {
      "text/plain": [
       "Array([[ 1., -1., -1.,  1., -1.,  1.,  1., -1., -1., -1., -1., -1., -1.,\n",
       "        -1., -1., -1.,  1.,  1., -1., -1.],\n",
       "       [ 1., -1.,  1.,  1., -1.,  1.,  1., -1.,  1., -1., -1., -1.,  1.,\n",
       "         1.,  1.,  1., -1.,  1., -1.,  1.],\n",
       "       [-1.,  1.,  1.,  1.,  1., -1., -1.,  1.,  1.,  1., -1.,  1.,  1.,\n",
       "         1.,  1.,  1., -1.,  1., -1.,  1.]], dtype=float32)"
      ]
     },
     "execution_count": 4,
     "metadata": {},
     "output_type": "execute_result"
    }
   ],
   "source": [
    "import jax\n",
    "hi.random_state(jax.random.PRNGKey(0), 3)"
   ]
  },
  {
   "cell_type": "code",
   "execution_count": 5,
   "id": "043c7bc7",
   "metadata": {},
   "outputs": [],
   "source": [
    "from netket.operator.spin import sigmax,sigmaz "
   ]
  },
  {
   "cell_type": "code",
   "execution_count": 6,
   "id": "2bd99075",
   "metadata": {},
   "outputs": [],
   "source": [
    "Gamma = -1\n",
    "H = sum([Gamma*sigmax(hi,i) for i in range(N)])"
   ]
  },
  {
   "cell_type": "code",
   "execution_count": 7,
   "id": "b5705cfe",
   "metadata": {},
   "outputs": [],
   "source": [
    "V=-1\n",
    "H += sum([V*sigmaz(hi,i)*sigmaz(hi,(i+1)%N) for i in range(N)])"
   ]
  },
  {
   "cell_type": "markdown",
   "id": "e5d5340d",
   "metadata": {},
   "source": [
    "### 2. Exact Diagonalization"
   ]
  },
  {
   "cell_type": "code",
   "execution_count": 8,
   "id": "ac2437fd",
   "metadata": {},
   "outputs": [
    {
     "data": {
      "text/plain": [
       "(1048576, 1048576)"
      ]
     },
     "execution_count": 8,
     "metadata": {},
     "output_type": "execute_result"
    }
   ],
   "source": [
    "sp_h=H.to_sparse()\n",
    "sp_h.shape"
   ]
  },
  {
   "cell_type": "code",
   "execution_count": 12,
   "id": "1643d22a",
   "metadata": {},
   "outputs": [
    {
     "name": "stdout",
     "output_type": "stream",
     "text": [
      "eigenvalues with scipy sparse: [-25.49098969 -25.41240947]\n"
     ]
    }
   ],
   "source": [
    "from scipy.sparse.linalg import eigsh\n",
    "\n",
    "eig_vals, eig_vecs = eigsh(sp_h, k=2, which=\"SA\")\n",
    "\n",
    "print(\"eigenvalues with scipy sparse:\", eig_vals)\n",
    "\n",
    "E_gs = eig_vals[0]"
   ]
  },
  {
   "cell_type": "markdown",
   "id": "aba0b7a9",
   "metadata": {},
   "source": [
    "### 3. Mean-Field Ansatz"
   ]
  },
  {
   "cell_type": "code",
   "execution_count": 14,
   "id": "cdd5e36e",
   "metadata": {},
   "outputs": [],
   "source": [
    "# numerical operations in the model should always use jax.numpy \n",
    "# instead of numpy because jax supports computing derivatives. \n",
    "# If you want to better understand the difference between the two, check\n",
    "# https://flax.readthedocs.io/en/latest/notebooks/jax_for_the_impatient.html\n",
    "import jax.numpy as jnp\n",
    "\n",
    "# Flax is a framework to define models using jax\n",
    "import flax\n",
    "# we refer to `flax.linen` as `nn`. It's a repository of \n",
    "# layers, initializers and nonlinear functions.\n",
    "import flax.linen as nn\n",
    "\n",
    "# A Flax model must be a class subclassing `nn.Module`\n",
    "class MF(nn.Module):\n",
    "    \n",
    "    # The most compact way to define the model is this.\n",
    "    # The __call__(self, x) function should take as \n",
    "    # input a batch of states x.shape = (n_samples, L)\n",
    "    # and should return a vector of n_samples log-amplitudes\n",
    "    @nn.compact\n",
    "    def __call__(self, x):\n",
    "        \n",
    "        # A tensor of variational parameters is defined by calling\n",
    "        # the method `self.param` where the arguments will be:\n",
    "        # - arbitrary name used to refer to this set of parameters\n",
    "        # - an initializer used to provide the initial values. \n",
    "        # - The shape of the tensor\n",
    "        # - The dtype of the tensor.\n",
    "        lam = self.param(\n",
    "            \"lambda\", nn.initializers.normal(), (1,), float\n",
    "        )\n",
    "        \n",
    "        # compute the probabilities\n",
    "        p = nn.log_sigmoid(lam*x)\n",
    "\n",
    "        # sum the output\n",
    "        return 0.5 * jnp.sum(p, axis=-1)"
   ]
  },
  {
   "cell_type": "code",
   "execution_count": 15,
   "id": "9e63152e",
   "metadata": {},
   "outputs": [],
   "source": [
    "# Create an instance of the model. \n",
    "# Notice that this does not create the parameters, but only the specification of how the model is constructed and acts upon inputs/.\n",
    "mf_model = MF()\n",
    "\n",
    "# Create the local sampler on the hilbert space\n",
    "sampler = nk.sampler.MetropolisLocal(hi)\n",
    "\n",
    "# Construct the variational state using the model and the sampler above.\n",
    "# n_samples specifies how many samples should be used to compute expectation\n",
    "# values.\n",
    "vstate = nk.vqs.MCState(sampler, mf_model, n_samples=512)"
   ]
  },
  {
   "cell_type": "code",
   "execution_count": 16,
   "id": "82070958",
   "metadata": {},
   "outputs": [
    {
     "name": "stdout",
     "output_type": "stream",
     "text": [
      "{'lambda': Array([-0.01561619], dtype=float64)}\n"
     ]
    }
   ],
   "source": [
    "print(vstate.parameters)"
   ]
  },
  {
   "cell_type": "code",
   "execution_count": 19,
   "id": "35426f91",
   "metadata": {},
   "outputs": [
    {
     "name": "stdout",
     "output_type": "stream",
     "text": [
      "-19.77 ± 0.19 [σ²=17.73, R̂=1.0032]\n"
     ]
    }
   ],
   "source": [
    "E = vstate.expect(H)\n",
    "print(E)"
   ]
  },
  {
   "cell_type": "code",
   "execution_count": 20,
   "id": "dc108a53",
   "metadata": {},
   "outputs": [
    {
     "name": "stdout",
     "output_type": "stream",
     "text": [
      "Mean                  : -19.76626516761577\n",
      "Error                 : 0.1861108310444909\n",
      "Variance              : 17.734267613220368\n",
      "Convergence indicator : 1.0032185911112645\n",
      "Correlation time      : 0.0\n"
     ]
    }
   ],
   "source": [
    "print(\"Mean                  :\", E.mean)\n",
    "print(\"Error                 :\", E.error_of_mean)\n",
    "print(\"Variance              :\", E.variance)\n",
    "print(\"Convergence indicator :\", E.R_hat)\n",
    "print(\"Correlation time      :\", E.tau_corr)"
   ]
  },
  {
   "cell_type": "code",
   "execution_count": 21,
   "id": "f370ea0d",
   "metadata": {},
   "outputs": [
    {
     "data": {
      "text/plain": [
       "(-19.77 ± 0.19 [σ²=17.73, R̂=1.0032],\n",
       " {'lambda': Array([0.71128122], dtype=float64)})"
      ]
     },
     "execution_count": 21,
     "metadata": {},
     "output_type": "execute_result"
    }
   ],
   "source": [
    "vstate.expect_and_grad(H)"
   ]
  },
  {
   "cell_type": "markdown",
   "id": "bf414081",
   "metadata": {},
   "source": [
    "### 4. Variational Monte Carlo"
   ]
  },
  {
   "cell_type": "code",
   "execution_count": 22,
   "id": "d91c17f7",
   "metadata": {},
   "outputs": [
    {
     "name": "stderr",
     "output_type": "stream",
     "text": [
      "100%|█████████████████████████████████████████| 100/100 [00:01<00:00, 88.97it/s]\n"
     ]
    }
   ],
   "source": [
    "from tqdm import tqdm\n",
    "\n",
    "energy_history = []\n",
    "n_steps = 100\n",
    "\n",
    "# For every iteration (tqdm is just a progress bar)\n",
    "for i in tqdm(range(n_steps)):\n",
    "    # compute energy and gradient of the energy\n",
    "    E, E_grad = vstate.expect_and_grad(H)\n",
    "    # log the energy to a list\n",
    "    energy_history.append(E.mean.real)\n",
    "    # equivalent to vstate.parameters - 0.05*E_grad , but it performs this\n",
    "    # function on every leaf of the dictionaries containing the set of parameters\n",
    "    new_pars = jax.tree_map(lambda x,y: x-0.05*y, vstate.parameters, E_grad)\n",
    "    # actually update the parameters\n",
    "    vstate.parameters = new_pars"
   ]
  },
  {
   "cell_type": "code",
   "execution_count": 23,
   "id": "4d5a1a2b",
   "metadata": {},
   "outputs": [
    {
     "data": {
      "text/plain": [
       "[<matplotlib.lines.Line2D at 0x7fb6d3370fd0>]"
      ]
     },
     "execution_count": 23,
     "metadata": {},
     "output_type": "execute_result"
    },
    {
     "data": {
      "image/png": "[encoded data removed]",
      "text/plain": [
       "<Figure size 640x480 with 1 Axes>"
      ]
     },
     "metadata": {},
     "output_type": "display_data"
    }
   ],
   "source": [
    "import matplotlib.pyplot as plt\n",
    "\n",
    "plt.plot(energy_history)"
   ]
  },
  {
   "cell_type": "code",
   "execution_count": 24,
   "id": "369e8eee",
   "metadata": {},
   "outputs": [
    {
     "name": "stdout",
     "output_type": "stream",
     "text": [
      "No output specified (out=[apath|nk.logging.JsonLogger(...)]).Running the optimization but not saving the output.\n"
     ]
    },
    {
     "name": "stderr",
     "output_type": "stream",
     "text": [
      "100%|█| 300/300 [00:03<00:00, 77.97it/s, Energy=-24.947 ± 0.049 [σ²=1.232, R̂=1.\n"
     ]
    },
    {
     "name": "stdout",
     "output_type": "stream",
     "text": [
      "Optimized energy and relative error:  -25.018 ± 0.052 [σ²=1.390, R̂=1.0161] 0.018558915396957757\n"
     ]
    }
   ],
   "source": [
    "# First we reset the parameters to run the optimisation again\n",
    "vstate.init_parameters()\n",
    "\n",
    "# Then we create an optimiser from the standard library.\n",
    "# You can also use optax.\n",
    "optimizer = nk.optimizer.Sgd(learning_rate=0.05)\n",
    "\n",
    "# build the optimisation driver\n",
    "gs = nk.driver.VMC(H, optimizer, variational_state=vstate)\n",
    "\n",
    "# run the driver for 300 iterations. This will display a progress bar\n",
    "# by default.\n",
    "gs.run(n_iter=300)\n",
    "\n",
    "mf_energy=vstate.expect(H)\n",
    "error=abs((mf_energy.mean-eig_vals[0])/eig_vals[0])\n",
    "print(\"Optimized energy and relative error: \",mf_energy,error)"
   ]
  },
  {
   "cell_type": "code",
   "execution_count": 25,
   "id": "585845c0",
   "metadata": {},
   "outputs": [
    {
     "name": "stdout",
     "output_type": "stream",
     "text": [
      "Final optimized parameter:  [-2.62560935]\n"
     ]
    }
   ],
   "source": [
    "#we can also inspect the parameter:\n",
    "print(\"Final optimized parameter: \",vstate.parameters[\"lambda\"])"
   ]
  },
  {
   "cell_type": "code",
   "execution_count": 26,
   "id": "731400f2",
   "metadata": {},
   "outputs": [
    {
     "data": {
      "text/plain": [
       "-25.490989686364752"
      ]
     },
     "execution_count": 26,
     "metadata": {},
     "output_type": "execute_result"
    }
   ],
   "source": [
    "eig_vals[0]"
   ]
  },
  {
   "cell_type": "markdown",
   "id": "0a5230e8",
   "metadata": {},
   "source": [
    "### 5. Jastrow Ansatz"
   ]
  },
  {
   "cell_type": "code",
   "execution_count": 27,
   "id": "d93f1613",
   "metadata": {},
   "outputs": [],
   "source": [
    "class JasShort(nn.Module):\n",
    "    @nn.compact\n",
    "    def __call__(self, x):\n",
    "        \n",
    "        # Define the two variational parameters J1 and J2\n",
    "        j1 = self.param(\n",
    "            \"j1\", nn.initializers.normal(), (1,), float\n",
    "        )\n",
    "        j2 =self.param(\n",
    "            \"j2\", nn.initializers.normal(), (1,), float\n",
    "        )\n",
    "\n",
    "        # compute the nearest-neighbor correlations\n",
    "        corr1=x*jnp.roll(x,-1,axis=-1)\n",
    "        corr2=x*jnp.roll(x,-2,axis=-1)\n",
    "\n",
    "        # sum the output\n",
    "        return jnp.sum(j1*corr1+j2*corr2,axis=-1)\n",
    "    \n",
    "model=JasShort()\n",
    "\n",
    "vstate = nk.vqs.MCState(sampler, model, n_samples=1008)"
   ]
  },
  {
   "cell_type": "code",
   "execution_count": 28,
   "id": "f8420176",
   "metadata": {},
   "outputs": [
    {
     "name": "stderr",
     "output_type": "stream",
     "text": [
      "100%|█| 300/300 [00:05<00:00, 57.90it/s, Energy=-25.311 ± 0.019 [σ²=0.375, R̂=1.\n"
     ]
    },
    {
     "name": "stdout",
     "output_type": "stream",
     "text": [
      "Final optimized parameters: j1=[0.23286639], j2=[0.08094161]\n",
      "Optimized energy : -25.343 ± 0.020 [σ²=0.399, R̂=1.0229]\n",
      "relative error   : 0.005816064358357506\n"
     ]
    }
   ],
   "source": [
    "optimizer = nk.optimizer.Sgd(learning_rate=0.05)\n",
    "\n",
    "gs = nk.driver.VMC(H, optimizer, variational_state=vstate, preconditioner=nk.optimizer.SR(diag_shift=0.1))\n",
    "\n",
    "# construct the logger\n",
    "log=nk.logging.RuntimeLog()\n",
    "\n",
    "# One or more logger objects must be passed to the keyword argument `out`.\n",
    "gs.run(n_iter=300, out=log)\n",
    "\n",
    "print(f\"Final optimized parameters: j1={vstate.parameters['j1']}, j2={vstate.parameters['j2']}\")\n",
    "\n",
    "jas_energy=vstate.expect(H)\n",
    "error=abs((jas_energy.mean-eig_vals[0])/eig_vals[0])\n",
    "print(f\"Optimized energy : {jas_energy}\")\n",
    "print(f\"relative error   : {error}\")"
   ]
  },
  {
   "cell_type": "code",
   "execution_count": 29,
   "id": "67230f0b",
   "metadata": {},
   "outputs": [
    {
     "name": "stdout",
     "output_type": "stream",
     "text": [
      "{'Energy': History(\n",
      "   keys  = ['Mean', 'Variance', 'Sigma', 'R_hat', 'TauCorr'], \n",
      "   iters = [0, 1, ... 298, 299] (300 steps),\n",
      ")}\n"
     ]
    }
   ],
   "source": [
    "data_jastrow = log.data\n",
    "print(data_jastrow)"
   ]
  },
  {
   "cell_type": "code",
   "execution_count": 30,
   "id": "e99914f4",
   "metadata": {},
   "outputs": [
    {
     "data": {
      "text/plain": [
       "Text(0, 0.5, 'Energy')"
      ]
     },
     "execution_count": 30,
     "metadata": {},
     "output_type": "execute_result"
    },
    {
     "data": {
      "image/png": "[encoded data removed]",
      "text/plain": [
       "<Figure size 640x480 with 1 Axes>"
      ]
     },
     "metadata": {},
     "output_type": "display_data"
    }
   ],
   "source": [
    "from matplotlib import pyplot as plt\n",
    "\n",
    "plt.errorbar(data_jastrow[\"Energy\"].iters, data_jastrow[\"Energy\"].Mean, yerr=data_jastrow[\"Energy\"].Sigma)\n",
    "plt.xlabel('Iterations')\n",
    "plt.ylabel('Energy')"
   ]
  },
  {
   "cell_type": "code",
   "execution_count": 31,
   "id": "939124b6",
   "metadata": {},
   "outputs": [],
   "source": [
    "class FFN(nn.Module):\n",
    "    \n",
    "    # You can define attributes at the module-level\n",
    "    # with a default. This allows you to easily change\n",
    "    # some hyper-parameter without redefining the whole \n",
    "    # flax module.\n",
    "    alpha : int = 1\n",
    "            \n",
    "    @nn.compact\n",
    "    def __call__(self, x):\n",
    "\n",
    "        # here we construct the first dense layer using a\n",
    "        # pre-built implementation in flax.\n",
    "        # features is the number of output nodes\n",
    "        # WARNING: Won't work with complex hamiltonians because\n",
    "        # of a bug in flax. Use nk.nn.Dense otherwise. \n",
    "        dense = nn.Dense(features=self.alpha * x.shape[-1])\n",
    "        \n",
    "        # we apply the dense layer to the input\n",
    "        y = dense(x)\n",
    "\n",
    "        # the non-linearity is a simple ReLu\n",
    "        y = nn.relu(y)\n",
    "                \n",
    "        # sum the output\n",
    "        return jnp.sum(y, axis=-1)\n",
    "    \n",
    "model = FFN(alpha=1)\n",
    "\n",
    "vstate = nk.vqs.MCState(sampler, model, n_samples=1008)"
   ]
  },
  {
   "cell_type": "code",
   "execution_count": 32,
   "id": "4bba0041",
   "metadata": {},
   "outputs": [
    {
     "name": "stderr",
     "output_type": "stream",
     "text": [
      "100%|█| 300/300 [00:06<00:00, 47.76it/s, Energy=-25.4555 ± 0.0096 [σ²=0.0935, R̂\n"
     ]
    },
    {
     "name": "stdout",
     "output_type": "stream",
     "text": [
      "Optimized energy and relative error:  -25.459 ± 0.010 [σ²=0.103, R̂=1.0247] 0.0012666774159657502\n"
     ]
    }
   ],
   "source": [
    "optimizer = nk.optimizer.Sgd(learning_rate=0.1)\n",
    "\n",
    "# Notice the use, again of Stochastic Reconfiguration, which considerably improves the optimisation\n",
    "gs = nk.driver.VMC(H, optimizer, variational_state=vstate,preconditioner=nk.optimizer.SR(diag_shift=0.1))\n",
    "\n",
    "log=nk.logging.RuntimeLog()\n",
    "gs.run(n_iter=300,out=log)\n",
    "\n",
    "ffn_energy=vstate.expect(H)\n",
    "error=abs((ffn_energy.mean-eig_vals[0])/eig_vals[0])\n",
    "print(\"Optimized energy and relative error: \",ffn_energy,error)"
   ]
  },
  {
   "cell_type": "code",
   "execution_count": 33,
   "id": "14e66616",
   "metadata": {},
   "outputs": [
    {
     "data": {
      "text/plain": [
       "Text(0, 0.5, 'Energy')"
      ]
     },
     "execution_count": 33,
     "metadata": {},
     "output_type": "execute_result"
    },
    {
     "data": {
      "image/png": "[encoded data removed]",
      "text/plain": [
       "<Figure size 640x480 with 1 Axes>"
      ]
     },
     "metadata": {},
     "output_type": "display_data"
    }
   ],
   "source": [
    "data_FFN = log.data\n",
    "\n",
    "plt.errorbar(data_jastrow[\"Energy\"].iters, data_jastrow[\"Energy\"].Mean, yerr=data_jastrow[\"Energy\"].Sigma, label=\"Jastrow\")\n",
    "plt.errorbar(data_FFN[\"Energy\"].iters, data_FFN[\"Energy\"].Mean, yerr=data_FFN[\"Energy\"].Sigma, label=\"FFN\")\n",
    "plt.hlines([E_gs], xmin=0, xmax=300, color='black', label=\"Exact\")\n",
    "plt.legend()\n",
    "\n",
    "plt.xlabel('Iterations')\n",
    "plt.ylabel('Energy')"
   ]
  },
  {
   "cell_type": "markdown",
   "id": "7778073b",
   "metadata": {},
   "source": [
    "### 7. Translation Symmetry"
   ]
  },
  {
   "cell_type": "code",
   "execution_count": 34,
   "id": "ca19dd5d",
   "metadata": {},
   "outputs": [
    {
     "name": "stdout",
     "output_type": "stream",
     "text": [
      "PermutationGroup(elems=[Id(), Translation([1]), Translation([2]), Translation([3]), Translation([4]), Translation([5]), Translation([6]), Translation([7]), Translation([8]), Translation([9]), Translation([10]), Translation([11]), Translation([12]), Translation([13]), Translation([14]), Translation([15]), Translation([16]), Translation([17]), Translation([18]), Translation([19])], degree=20)\n"
     ]
    }
   ],
   "source": [
    "graph=nk.graph.Chain(length=N, pbc=True)\n",
    "\n",
    "print(graph.translation_group())"
   ]
  },
  {
   "cell_type": "code",
   "execution_count": 35,
   "id": "b3961960",
   "metadata": {},
   "outputs": [],
   "source": [
    "Gamma=-1\n",
    "H = sum([Gamma*sigmax(hi,i) for i in range(N)])\n",
    "\n",
    "V=-1\n",
    "H += sum([V*sigmaz(hi,i)*sigmaz(hi,j) for (i,j) in graph.edges()])"
   ]
  },
  {
   "cell_type": "code",
   "execution_count": 36,
   "id": "4dc5b297",
   "metadata": {},
   "outputs": [
    {
     "data": {
      "text/plain": [
       "84"
      ]
     },
     "execution_count": 36,
     "metadata": {},
     "output_type": "execute_result"
    }
   ],
   "source": [
    "import flax.linen as nn\n",
    "import netket.nn as nknn\n",
    "\n",
    "class SymmModel(nn.Module):\n",
    "    alpha: int\n",
    "\n",
    "    @nn.compact\n",
    "    def __call__(self, x):\n",
    "        # add an extra dimension with size 1, because DenseSymm requires rank-3 tensors as inputs.\n",
    "        # the shape will now be (batches, 1, Nsites)\n",
    "        x = x.reshape(-1, 1, x.shape[-1])\n",
    "        \n",
    "        x = nknn.DenseSymm(symmetries=graph.translation_group(),\n",
    "                           features=self.alpha,\n",
    "                           kernel_init=nn.initializers.normal(stddev=0.01))(x)\n",
    "        x = nn.relu(x)\n",
    "\n",
    "        # sum the output\n",
    "        return jnp.sum(x,axis=(-1,-2))\n",
    "\n",
    "\n",
    "sampler = nk.sampler.MetropolisLocal(hi)\n",
    "\n",
    "#Let us define a model with 4 features per symmetry\n",
    "model=SymmModel(alpha=4)\n",
    "\n",
    "vstate = nk.vqs.MCState(sampler, model, n_samples=1008)\n",
    "\n",
    "vstate.n_parameters"
   ]
  },
  {
   "cell_type": "code",
   "execution_count": 37,
   "id": "0439c13f",
   "metadata": {},
   "outputs": [
    {
     "name": "stderr",
     "output_type": "stream",
     "text": [
      "100%|█| 600/600 [00:51<00:00, 11.67it/s, Energy=-25.4915 ± 0.0020 [σ²=0.0042, R̂\n"
     ]
    },
    {
     "name": "stdout",
     "output_type": "stream",
     "text": [
      "Optimized energy and relative error:  -25.4906 ± 0.0021 [σ²=0.0043, R̂=1.0027] 1.6398167353260672e-05\n"
     ]
    }
   ],
   "source": [
    "optimizer = nk.optimizer.Sgd(learning_rate=0.1)\n",
    "\n",
    "gs = nk.driver.VMC(H, optimizer, variational_state=vstate,preconditioner=nk.optimizer.SR(diag_shift=0.1))\n",
    "\n",
    "log=nk.logging.RuntimeLog()\n",
    "gs.run(n_iter=600,out=log)\n",
    "\n",
    "symm_energy=vstate.expect(H)\n",
    "error=abs((symm_energy.mean-eig_vals[0])/eig_vals[0])\n",
    "print(\"Optimized energy and relative error: \",symm_energy,error)"
   ]
  },
  {
   "cell_type": "code",
   "execution_count": 38,
   "id": "1eaa68f4",
   "metadata": {},
   "outputs": [
    {
     "data": {
      "text/plain": [
       "<matplotlib.legend.Legend at 0x7fb6d2b8fa30>"
      ]
     },
     "execution_count": 38,
     "metadata": {},
     "output_type": "execute_result"
    },
    {
     "data": {
      "image/png": "[encoded data removed]",
      "text/plain": [
       "<Figure size 640x480 with 1 Axes>"
      ]
     },
     "metadata": {},
     "output_type": "display_data"
    }
   ],
   "source": [
    "plt.errorbar(log.data[\"Energy\"].iters[50:],log.data[\"Energy\"].Mean[50:],yerr=log.data[\"Energy\"].Sigma[50:],label=\"SymmModel\")\n",
    "\n",
    "plt.axhline(y=eig_vals[0], xmin=0, xmax=log.data[\"Energy\"].iters[-1], linewidth=2, color=\"k\", label=\"Exact\")\n",
    "plt.xlabel('Iterations')\n",
    "plt.ylabel('Energy')\n",
    "plt.legend(frameon=False)"
   ]
  },
  {
   "cell_type": "markdown",
   "id": "f8a18c12",
   "metadata": {},
   "source": [
    "### 8. Measuring Other Properties"
   ]
  },
  {
   "cell_type": "code",
   "execution_count": 39,
   "id": "c50a7e59",
   "metadata": {},
   "outputs": [],
   "source": [
    "corr = sum([sigmax(hi,i)*sigmax(hi,j) for (i,j) in graph.edges()])"
   ]
  },
  {
   "cell_type": "code",
   "execution_count": 40,
   "id": "bbd139ce",
   "metadata": {},
   "outputs": [],
   "source": [
    "vstate.n_samples=400000"
   ]
  },
  {
   "cell_type": "code",
   "execution_count": 41,
   "id": "295888b2",
   "metadata": {},
   "outputs": [
    {
     "data": {
      "text/plain": [
       "10.865 ± 0.017 [σ²=31.667, R̂=1.0001]"
      ]
     },
     "execution_count": 41,
     "metadata": {},
     "output_type": "execute_result"
    }
   ],
   "source": [
    "vstate.expect(corr)"
   ]
  },
  {
   "cell_type": "code",
   "execution_count": 42,
   "id": "2f2d916b",
   "metadata": {},
   "outputs": [
    {
     "name": "stdout",
     "output_type": "stream",
     "text": [
      "10.852248713127707\n"
     ]
    }
   ],
   "source": [
    "psi = eig_vecs[:, 0]\n",
    "exact_corr=psi@(corr@psi)\n",
    "print(exact_corr)"
   ]
  },
  {
   "cell_type": "code",
   "execution_count": null,
   "id": "5a70e913",
   "metadata": {},
   "outputs": [],
   "source": []
  }
 ],
 "metadata": {
  "kernelspec": {
   "display_name": "Python 3 (ipykernel)",
   "language": "python",
   "name": "python3"
  },
  "language_info": {
   "codemirror_mode": {
    "name": "ipython",
    "version": 3
   },
   "file_extension": ".py",
   "mimetype": "text/x-python",
   "name": "python",
   "nbconvert_exporter": "python",
   "pygments_lexer": "ipython3",
   "version": "3.10.12"
  }
 },
 "nbformat": 4,
 "nbformat_minor": 5
}
