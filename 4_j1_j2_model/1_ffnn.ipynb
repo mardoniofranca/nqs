{
 "cells": [
  {
   "cell_type": "code",
   "execution_count": 1,
   "id": "e3e548b0",
   "metadata": {},
   "outputs": [],
   "source": [
    "import os\n",
    "os.environ[\"JAX_PLATFORM_NAME\"] = \"cpu\"\n",
    "import netket as nk\n",
    "import numpy as np\n",
    "import matplotlib.pyplot as plt\n",
    "import matplotlib\n",
    "from matplotlib.offsetbox import AnchoredText\n",
    "import json\n",
    "import netket.nn as nknn\n",
    "import flax.linen as nn\n",
    "import jax.numpy as jnp\n",
    "import warnings\n",
    "warnings.filterwarnings('ignore')\n",
    "import pandas as pd\n",
    "import math "
   ]
  },
  {
   "cell_type": "code",
   "execution_count": 2,
   "id": "8522dd6e",
   "metadata": {},
   "outputs": [],
   "source": [
    "class FFNN(nn.Module):\n",
    "    @nn.compact\n",
    "    def __call__(self, x):\n",
    "        x = nn.Dense(features=2*x.shape[-1], \n",
    "                     use_bias=True, \n",
    "                     param_dtype=np.complex128, \n",
    "                     kernel_init=nn.initializers.normal(stddev=0.01), \n",
    "                     bias_init=nn.initializers.normal(stddev=0.01)\n",
    "                    )(x)\n",
    "        x = nknn.log_cosh(x)\n",
    "        x = jnp.sum(x, axis=-1)\n",
    "        return x"
   ]
  },
  {
   "cell_type": "code",
   "execution_count": 3,
   "id": "1096e73d",
   "metadata": {},
   "outputs": [],
   "source": [
    "pi = math.pi\n",
    "L     = 14 "
   ]
  },
  {
   "cell_type": "code",
   "execution_count": 8,
   "id": "9d5ff647",
   "metadata": {},
   "outputs": [],
   "source": [
    "w = 0; rad = math.radians(w); j1 = math.sin(rad); j2 = math.cos(rad)\n",
    "J = [j1,j2]"
   ]
  },
  {
   "cell_type": "code",
   "execution_count": 9,
   "id": "4f08d8f1",
   "metadata": {},
   "outputs": [],
   "source": [
    "# Define custom graph\n",
    "edge_colors = []\n",
    "for i in range(L):\n",
    "    edge_colors.append([i, (i+1)%L, 1])\n",
    "    edge_colors.append([i, (i+2)%L, 2])\n",
    "\n",
    "# Define the netket graph object\n",
    "g = nk.graph.Graph(edges=edge_colors)"
   ]
  },
  {
   "cell_type": "code",
   "execution_count": 10,
   "id": "53f8aeeb",
   "metadata": {},
   "outputs": [],
   "source": [
    "#Sigma^z*Sigma^z interactions\n",
    "sigmaz = [[1, 0], [0, -1]]\n",
    "mszsz = (np.kron(sigmaz, sigmaz))\n",
    "\n",
    "#Exchange interactions\n",
    "exchange = np.asarray([[0, 0, 0, 0], [0, 0, 2, 0], [0, 2, 0, 0], [0, 0, 0, 0]])\n",
    "\n",
    "bond_operator = [\n",
    "    (J[0] * mszsz).tolist(),\n",
    "    (J[1] * mszsz).tolist(),\n",
    "    (-J[0] * exchange).tolist(),  \n",
    "    (J[1] * exchange).tolist(),\n",
    "]\n",
    "\n",
    "bond_color = [1, 2, 1, 2]"
   ]
  },
  {
   "cell_type": "code",
   "execution_count": 12,
   "id": "8d2b5b59",
   "metadata": {},
   "outputs": [],
   "source": [
    "# Spin based Hilbert Space\n",
    "hi = nk.hilbert.Spin(s=0.5, total_sz=0.0, N=g.n_nodes)"
   ]
  },
  {
   "cell_type": "code",
   "execution_count": 13,
   "id": "6a3c768f",
   "metadata": {},
   "outputs": [],
   "source": [
    "# Custom Hamiltonian operator\n",
    "op = nk.operator.GraphOperator(hi, graph=g, bond_ops=bond_operator, bond_ops_colors=bond_color)"
   ]
  },
  {
   "cell_type": "code",
   "execution_count": 14,
   "id": "a3987960",
   "metadata": {},
   "outputs": [],
   "source": [
    "model = FFNN() #Neural Network"
   ]
  },
  {
   "cell_type": "code",
   "execution_count": 15,
   "id": "796293a6",
   "metadata": {},
   "outputs": [],
   "source": [
    "# We shall use an exchange Sampler which preserves the global magnetization (as this is a conserved quantity in the model)\n",
    "sa = nk.sampler.MetropolisExchange(hilbert=hi, graph=g, d_max = 2)\n",
    "\n",
    "# Construct the variational state\n",
    "vs = nk.vqs.MCState(sa, model, n_samples=1008) #use model\n",
    "\n",
    "# We choose a basic, albeit important, Optimizer: the Stochastic Gradient Descent\n",
    "opt = nk.optimizer.Sgd(learning_rate=0.01)\n",
    "\n",
    "# Stochastic Reconfiguration\n",
    "sr = nk.optimizer.SR(diag_shift=0.01)\n",
    "\n",
    "# We can then specify a Variational Monte Carlo object, using the Hamiltonian, sampler and optimizers chosen.\n",
    "# Note that we also specify the method to learn the parameters of the wave-function: here we choose the efficient\n",
    "# Stochastic reconfiguration (Sr), here in an iterative setup\n",
    "gs = nk.VMC(hamiltonian=op, optimizer=opt, variational_state=vs, preconditioner=sr) #use vs"
   ]
  },
  {
   "cell_type": "code",
   "execution_count": 16,
   "id": "d2a08695",
   "metadata": {},
   "outputs": [],
   "source": [
    "# We need to specify the local operators as a matrix acting on a local Hilbert space \n",
    "sf = []\n",
    "sites = []\n",
    "structure_factor = nk.operator.LocalOperator(hi, dtype=complex)\n",
    "for i in range(0, L):\n",
    "    for j in range(0, L):\n",
    "        structure_factor += (nk.operator.spin.sigmaz(hi, i)*nk.operator.spin.sigmaz(hi, j))*((-1)**(i-j))/L"
   ]
  },
  {
   "cell_type": "code",
   "execution_count": 18,
   "id": "2f3d2a16",
   "metadata": {},
   "outputs": [],
   "source": [
    "PARAM = w"
   ]
  },
  {
   "cell_type": "code",
   "execution_count": 19,
   "id": "d6642d53",
   "metadata": {},
   "outputs": [
    {
     "name": "stderr",
     "output_type": "stream",
     "text": [
      "100%|█| 600/600 [02:01<00:00,  4.92it/s, Energy=-22.826+0.008j ± 0.014 [σ²=0.198\n"
     ]
    },
    {
     "data": {
      "text/plain": [
       "(JsonLog('log/0', mode=write, autoflush_cost=0.005)\n",
       "   Runtime cost:\n",
       "   \tLog:    0.26282358169555664\n",
       "   \tParams: 0.002805471420288086,)"
      ]
     },
     "execution_count": 19,
     "metadata": {},
     "output_type": "execute_result"
    }
   ],
   "source": [
    "# Run the optimization protocol\n",
    "param_file =\"log/\" + str(PARAM)\n",
    "gs.run(out=param_file, n_iter=600, obs={'Structure Factor': structure_factor})"
   ]
  },
  {
   "cell_type": "code",
   "execution_count": 20,
   "id": "cd942e7b",
   "metadata": {},
   "outputs": [],
   "source": [
    "data=json.load(open(param_file + \".log\"))\n",
    "iters = data['Energy']['iters']\n",
    "energy=data['Energy']['Mean']['real']\n",
    "sf=data['Structure Factor']['Mean']['real']"
   ]
  },
  {
   "cell_type": "code",
   "execution_count": 21,
   "id": "beacb30a",
   "metadata": {},
   "outputs": [],
   "source": [
    "E_gs, ket_gs = nk.exact.lanczos_ed(op, compute_eigenvectors=True)\n",
    "structure_factor_gs = (ket_gs.T.conj()@structure_factor.to_linear_operator()@ket_gs).real[0,0]"
   ]
  },
  {
   "cell_type": "code",
   "execution_count": 22,
   "id": "04a0eb04",
   "metadata": {},
   "outputs": [
    {
     "name": "stdout",
     "output_type": "stream",
     "text": [
      "0 0 0.0 1.0 0.28571428571428514 -22.841434054773543 0.28603174603174586 -22.825459190655305\n"
     ]
    }
   ],
   "source": [
    "print(PARAM,w,j1,j2,\n",
    "      structure_factor_gs,\n",
    "      E_gs[0],\n",
    "      np.mean(sf[-50:]),\n",
    "      np.mean(energy[-50:]))"
   ]
  },
  {
   "cell_type": "code",
   "execution_count": 23,
   "id": "a348e760",
   "metadata": {},
   "outputs": [],
   "source": [
    "v = []"
   ]
  },
  {
   "cell_type": "code",
   "execution_count": 24,
   "id": "8286db56",
   "metadata": {},
   "outputs": [],
   "source": [
    "rad = w*2/360\n",
    "l = [PARAM,\n",
    "     w,\n",
    "     j1,\n",
    "     j2,\n",
    "     structure_factor_gs,\n",
    "     E_gs[0],\n",
    "     np.mean(sf[-50:]),\n",
    "     np.mean(energy[-50:]),\n",
    "    rad]\n",
    "\n",
    "v.append(l)"
   ]
  },
  {
   "cell_type": "code",
   "execution_count": 25,
   "id": "65c5dd52",
   "metadata": {},
   "outputs": [],
   "source": [
    "df = pd.DataFrame(v, columns=['i', 'w', 'j1', 'j2',\n",
    "                              'factor_e', 'exact_e_0', 'factor_c', 'calc_e_0','rad'])"
   ]
  },
  {
   "cell_type": "code",
   "execution_count": 26,
   "id": "3bd4e4a3",
   "metadata": {},
   "outputs": [],
   "source": [
    "file = \"data/df_\" + str(PARAM) + \".csv\""
   ]
  },
  {
   "cell_type": "code",
   "execution_count": null,
   "id": "4c7df1a8",
   "metadata": {},
   "outputs": [],
   "source": []
  }
 ],
 "metadata": {
  "kernelspec": {
   "display_name": "Python 3 (ipykernel)",
   "language": "python",
   "name": "python3"
  },
  "language_info": {
   "codemirror_mode": {
    "name": "ipython",
    "version": 3
   },
   "file_extension": ".py",
   "mimetype": "text/x-python",
   "name": "python",
   "nbconvert_exporter": "python",
   "pygments_lexer": "ipython3",
   "version": "3.10.12"
  }
 },
 "nbformat": 4,
 "nbformat_minor": 5
}
