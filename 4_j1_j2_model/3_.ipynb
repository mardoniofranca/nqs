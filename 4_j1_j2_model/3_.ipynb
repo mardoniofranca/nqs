{
 "cells": [
  {
   "cell_type": "markdown",
   "id": "213f8f82",
   "metadata": {},
   "source": [
    "-n/2 < w < w_mg; w_mg = tan^(⁻1)(1/2)"
   ]
  },
  {
   "cell_type": "markdown",
   "id": "3494dcb9",
   "metadata": {},
   "source": [
    "The point WMG is the Majumdar-Ghosh (MG) Hamiltonian (Majumdar and Ghosh 1969a. b; see also\n",
    "Haldane 1982) at which the ground state consists of dimerized singlets with a gap to the\n",
    "excited states"
   ]
  },
  {
   "cell_type": "markdown",
   "id": "31bb36c8",
   "metadata": {},
   "source": [
    "The transition occurs at Jz/J, = 0.2411(1) (w = 0.2366(1))"
   ]
  },
  {
   "cell_type": "markdown",
   "id": "fcac099a",
   "metadata": {},
   "source": [
    "The frustrated regime is given by OMG < w < OFF, where ow = tan-1(-1/4) = 3.3865\n",
    "is the point at which a first-order transition to a ferromagnetic regime occurs. \n",
    "\n",
    "This was first studied numerically by Tonegawa and Harada (1987) who found evidence of change in the\n",
    "position of the peak of the correlation function as a function of w. Here we shall use a\n",
    "variety of methods to investigate the whole of the frustrated regime, including w n/2."
   ]
  },
  {
   "cell_type": "markdown",
   "id": "c38070c1",
   "metadata": {},
   "source": [
    "It will be useful to compare our results with those of the classical Hamiltonian. In this\n",
    "regime the minimum classical energy is obtained by forming a spiral with a pitch angle\n",
    "0 between neighbouring spins, where 0 = cos-1(-J1/4Jz). The classical boundary with\n",
    "= tan-1(l/4) = 0.2450. The real-space periodicity thus increases the AF phase is at\n",
    "monotonically from two at the AF boundary to infinity at the ferromagnetic boundary."
   ]
  },
  {
   "cell_type": "code",
   "execution_count": null,
   "id": "c8ab9518",
   "metadata": {},
   "outputs": [],
   "source": []
  }
 ],
 "metadata": {
  "kernelspec": {
   "display_name": "Python 3 (ipykernel)",
   "language": "python",
   "name": "python3"
  },
  "language_info": {
   "codemirror_mode": {
    "name": "ipython",
    "version": 3
   },
   "file_extension": ".py",
   "mimetype": "text/x-python",
   "name": "python",
   "nbconvert_exporter": "python",
   "pygments_lexer": "ipython3",
   "version": "3.10.12"
  }
 },
 "nbformat": 4,
 "nbformat_minor": 5
}
