{
 "cells": [
  {
   "cell_type": "code",
   "execution_count": 1,
   "id": "e3e548b0",
   "metadata": {},
   "outputs": [],
   "source": [
    "import os\n",
    "os.environ[\"JAX_PLATFORM_NAME\"] = \"cpu\"\n",
    "import netket as nk\n",
    "import numpy as np\n",
    "import matplotlib.pyplot as plt\n",
    "import matplotlib\n",
    "from matplotlib.offsetbox import AnchoredText\n",
    "import json\n",
    "import netket.nn as nknn\n",
    "import flax.linen as nn\n",
    "import jax.numpy as jnp\n",
    "import warnings\n",
    "warnings.filterwarnings('ignore')\n",
    "import pandas as pd\n",
    "import math "
   ]
  },
  {
   "cell_type": "code",
   "execution_count": 23,
   "id": "2be360d6",
   "metadata": {},
   "outputs": [],
   "source": [
    "import time"
   ]
  },
  {
   "cell_type": "code",
   "execution_count": 2,
   "id": "8522dd6e",
   "metadata": {},
   "outputs": [],
   "source": [
    "class FFNN(nn.Module):\n",
    "    @nn.compact\n",
    "    def __call__(self, x):\n",
    "        x = nn.Dense(features=2*x.shape[-1], \n",
    "                     use_bias=True, \n",
    "                     param_dtype=np.complex128, \n",
    "                     kernel_init=nn.initializers.normal(stddev=0.01), \n",
    "                     bias_init=nn.initializers.normal(stddev=0.01)\n",
    "                    )(x)\n",
    "        x = nknn.log_cosh(x)\n",
    "        x = jnp.sum(x, axis=-1)\n",
    "        return x"
   ]
  },
  {
   "cell_type": "code",
   "execution_count": 4,
   "id": "1096e73d",
   "metadata": {},
   "outputs": [],
   "source": [
    "pi = math.pi\n",
    "L     = 14 "
   ]
  },
  {
   "cell_type": "code",
   "execution_count": 5,
   "id": "9d5ff647",
   "metadata": {},
   "outputs": [],
   "source": [
    "w = 0; rad = math.radians(w); j1 = math.sin(rad); j2 = math.cos(rad)\n",
    "J = [j1,j2]"
   ]
  },
  {
   "cell_type": "code",
   "execution_count": 42,
   "id": "dce611a0",
   "metadata": {},
   "outputs": [
    {
     "data": {
      "text/plain": [
       "[0.0, 1.0]"
      ]
     },
     "execution_count": 42,
     "metadata": {},
     "output_type": "execute_result"
    }
   ],
   "source": [
    "J"
   ]
  },
  {
   "cell_type": "code",
   "execution_count": 46,
   "id": "41154c9b",
   "metadata": {},
   "outputs": [],
   "source": [
    "w = 60; rad = math.radians(w); j1 = math.sin(rad); j2 = math.cos(rad)\n",
    "J = [j1,j2]"
   ]
  },
  {
   "cell_type": "code",
   "execution_count": 48,
   "id": "d29f1f0f",
   "metadata": {},
   "outputs": [
    {
     "data": {
      "text/plain": [
       "(60, [0.8660254037844386, 0.5000000000000001])"
      ]
     },
     "execution_count": 48,
     "metadata": {},
     "output_type": "execute_result"
    }
   ],
   "source": [
    "w,J"
   ]
  },
  {
   "cell_type": "code",
   "execution_count": 49,
   "id": "4f08d8f1",
   "metadata": {},
   "outputs": [],
   "source": [
    "# Define custom graph\n",
    "edge_colors = []\n",
    "for i in range(L):\n",
    "    edge_colors.append([i, (i+1)%L, 1])\n",
    "    edge_colors.append([i, (i+2)%L, 2])\n",
    "\n",
    "# Define the netket graph object\n",
    "g = nk.graph.Graph(edges=edge_colors)"
   ]
  },
  {
   "cell_type": "code",
   "execution_count": 50,
   "id": "53f8aeeb",
   "metadata": {},
   "outputs": [],
   "source": [
    "#Sigma^z*Sigma^z interactions\n",
    "sigmaz = [[1, 0], [0, -1]]\n",
    "mszsz = (np.kron(sigmaz, sigmaz))\n",
    "\n",
    "#Exchange interactions\n",
    "exchange = np.asarray([[0, 0, 0, 0], [0, 0, 2, 0], [0, 2, 0, 0], [0, 0, 0, 0]])\n",
    "\n",
    "bond_operator = [\n",
    "    (J[0] * mszsz).tolist(),\n",
    "    (J[1] * mszsz).tolist(),\n",
    "    (-J[0] * exchange).tolist(),  \n",
    "    (J[1] * exchange).tolist(),\n",
    "]\n",
    "\n",
    "bond_color = [1, 2, 1, 2]"
   ]
  },
  {
   "cell_type": "code",
   "execution_count": 51,
   "id": "8d2b5b59",
   "metadata": {},
   "outputs": [],
   "source": [
    "# Spin based Hilbert Space\n",
    "hi = nk.hilbert.Spin(s=0.5, total_sz=0.0, N=g.n_nodes)"
   ]
  },
  {
   "cell_type": "code",
   "execution_count": 52,
   "id": "6a3c768f",
   "metadata": {},
   "outputs": [],
   "source": [
    "# Custom Hamiltonian operator\n",
    "op = nk.operator.GraphOperator(hi, graph=g, bond_ops=bond_operator, bond_ops_colors=bond_color)"
   ]
  },
  {
   "cell_type": "code",
   "execution_count": 53,
   "id": "a3987960",
   "metadata": {},
   "outputs": [],
   "source": [
    "model = FFNN() #Neural Network"
   ]
  },
  {
   "cell_type": "code",
   "execution_count": 54,
   "id": "796293a6",
   "metadata": {},
   "outputs": [],
   "source": [
    "# We shall use an exchange Sampler which preserves the global magnetization (as this is a conserved quantity in the model)\n",
    "sa = nk.sampler.MetropolisExchange(hilbert=hi, graph=g, d_max = 2)\n",
    "\n",
    "# Construct the variational state\n",
    "vs = nk.vqs.MCState(sa, model, n_samples=1008) #use model\n",
    "\n",
    "# We choose a basic, albeit important, Optimizer: the Stochastic Gradient Descent\n",
    "opt = nk.optimizer.Sgd(learning_rate=0.01)\n",
    "\n",
    "# Stochastic Reconfiguration\n",
    "sr = nk.optimizer.SR(diag_shift=0.01)\n",
    "\n",
    "# We can then specify a Variational Monte Carlo object, using the Hamiltonian, sampler and optimizers chosen.\n",
    "# Note that we also specify the method to learn the parameters of the wave-function: here we choose the efficient\n",
    "# Stochastic reconfiguration (Sr), here in an iterative setup\n",
    "gs = nk.VMC(hamiltonian=op, optimizer=opt, variational_state=vs, preconditioner=sr) #use vs"
   ]
  },
  {
   "cell_type": "code",
   "execution_count": 55,
   "id": "d2a08695",
   "metadata": {},
   "outputs": [],
   "source": [
    "# We need to specify the local operators as a matrix acting on a local Hilbert space \n",
    "sf = []\n",
    "sites = []\n",
    "structure_factor = nk.operator.LocalOperator(hi, dtype=complex)\n",
    "for i in range(0, L):\n",
    "    for j in range(0, L):\n",
    "        structure_factor += (nk.operator.spin.sigmaz(hi, i)*nk.operator.spin.sigmaz(hi, j))*((-1)**(i-j))/L"
   ]
  },
  {
   "cell_type": "code",
   "execution_count": 56,
   "id": "2f3d2a16",
   "metadata": {},
   "outputs": [],
   "source": [
    "PARAM = w"
   ]
  },
  {
   "cell_type": "code",
   "execution_count": 57,
   "id": "d6642d53",
   "metadata": {},
   "outputs": [
    {
     "name": "stderr",
     "output_type": "stream",
     "text": [
      "100%|█| 600/600 [02:01<00:00,  4.95it/s, Energy=-18.1718-0.0022j ± 0.0073 [σ²=0.\n"
     ]
    },
    {
     "data": {
      "text/plain": [
       "(JsonLog('log/60', mode=write, autoflush_cost=0.005)\n",
       "   Runtime cost:\n",
       "   \tLog:    0.25739288330078125\n",
       "   \tParams: 0.0024275779724121094,)"
      ]
     },
     "execution_count": 57,
     "metadata": {},
     "output_type": "execute_result"
    }
   ],
   "source": [
    "# Run the optimization protocol\n",
    "param_file =\"log/\" + str(PARAM)\n",
    "gs.run(out=param_file, n_iter=600, obs={'Structure Factor': structure_factor})"
   ]
  },
  {
   "cell_type": "code",
   "execution_count": 58,
   "id": "cd942e7b",
   "metadata": {},
   "outputs": [],
   "source": [
    "data=json.load(open(param_file + \".log\"))\n",
    "iters = data['Energy']['iters']\n",
    "energy=data['Energy']['Mean']['real']\n",
    "sf=data['Structure Factor']['Mean']['real']"
   ]
  },
  {
   "cell_type": "code",
   "execution_count": 59,
   "id": "539cf127",
   "metadata": {},
   "outputs": [
    {
     "data": {
      "text/plain": [
       "600"
      ]
     },
     "execution_count": 59,
     "metadata": {},
     "output_type": "execute_result"
    }
   ],
   "source": [
    "len(energy)"
   ]
  },
  {
   "cell_type": "code",
   "execution_count": 60,
   "id": "863113b4",
   "metadata": {},
   "outputs": [
    {
     "data": {
      "text/plain": [
       "-18.171792678362237"
      ]
     },
     "execution_count": 60,
     "metadata": {},
     "output_type": "execute_result"
    }
   ],
   "source": [
    "energy[-1]"
   ]
  },
  {
   "cell_type": "code",
   "execution_count": 61,
   "id": "ab1b260c",
   "metadata": {},
   "outputs": [],
   "source": [
    "# RBM ansatz with alpha=1\n",
    "ma = nk.models.RBM(alpha=1)"
   ]
  },
  {
   "cell_type": "code",
   "execution_count": 62,
   "id": "aa38b1e9",
   "metadata": {},
   "outputs": [
    {
     "name": "stdout",
     "output_type": "stream",
     "text": [
      "### RBM calculation\n",
      "Has 224 parameters\n",
      "The RBM calculation took 54.30625605583191 seconds\n"
     ]
    }
   ],
   "source": [
    "# Build the sampler\n",
    "sa = nk.sampler.MetropolisExchange(hilbert=hi,graph=g)\n",
    "\n",
    "# Custom Hamiltonian operator\n",
    "op = nk.operator.GraphOperator(hi, graph=g, bond_ops=bond_operator, bond_ops_colors=bond_color)\n",
    "\n",
    "# Optimizer\n",
    "opt = nk.optimizer.Sgd(learning_rate=0.01)\n",
    "\n",
    "# Stochastic Reconfiguration\n",
    "sr = nk.optimizer.SR(diag_shift=0.1)\n",
    "\n",
    "# The variational state\n",
    "vs = nk.vqs.MCState(sa, ma, n_samples=2000)\n",
    "\n",
    "# The ground-state optimization loop\n",
    "gs = nk.VMC(\n",
    "    hamiltonian=op,\n",
    "    optimizer=opt,\n",
    "    preconditioner=sr,\n",
    "    variational_state=vs)\n",
    "\n",
    "print('### RBM calculation')\n",
    "print('Has',vs.n_parameters,'parameters')\n",
    "print('The RBM calculation took',end-start,'seconds')"
   ]
  },
  {
   "cell_type": "code",
   "execution_count": 63,
   "id": "2a8ca4da",
   "metadata": {},
   "outputs": [
    {
     "name": "stderr",
     "output_type": "stream",
     "text": [
      "100%|█| 1200/1200 [01:05<00:00, 18.41it/s, Energy=-18.20200 ± 0.00033 [σ²=0.0002\n"
     ]
    }
   ],
   "source": [
    "# Run the optimization protocol\n",
    "param_file =\"log_rbm/\" + str(PARAM)\n",
    "start = time.time()\n",
    "gs.run(out=param_file, n_iter=1200, obs={'Structure Factor': structure_factor})\n",
    "end = time.time()"
   ]
  },
  {
   "cell_type": "code",
   "execution_count": 64,
   "id": "5dd5a696",
   "metadata": {},
   "outputs": [],
   "source": [
    "data=json.load(open(param_file + \".log\"))\n",
    "# Extract the relevant information\n",
    "iters_RBM = data[\"Energy\"][\"iters\"]\n",
    "energy_RBM = data[\"Energy\"][\"Mean\"]"
   ]
  },
  {
   "cell_type": "code",
   "execution_count": 65,
   "id": "50cbd983",
   "metadata": {},
   "outputs": [
    {
     "data": {
      "text/plain": [
       "1200"
      ]
     },
     "execution_count": 65,
     "metadata": {},
     "output_type": "execute_result"
    }
   ],
   "source": [
    "len(energy_RBM)"
   ]
  },
  {
   "cell_type": "code",
   "execution_count": 66,
   "id": "4c7df1a8",
   "metadata": {},
   "outputs": [
    {
     "data": {
      "text/plain": [
       "-18.201999740442137"
      ]
     },
     "execution_count": 66,
     "metadata": {},
     "output_type": "execute_result"
    }
   ],
   "source": [
    "energy_RBM[-1]"
   ]
  },
  {
   "cell_type": "code",
   "execution_count": 67,
   "id": "f84bb2c7",
   "metadata": {},
   "outputs": [],
   "source": [
    "E_gs, ket_gs = nk.exact.lanczos_ed(op, compute_eigenvectors=True)\n",
    "structure_factor_gs = (ket_gs.T.conj()@structure_factor.to_linear_operator()@ket_gs).real[0,0]"
   ]
  },
  {
   "cell_type": "code",
   "execution_count": 68,
   "id": "31b911ed",
   "metadata": {},
   "outputs": [
    {
     "data": {
      "text/plain": [
       "-18.374663708562185"
      ]
     },
     "execution_count": 68,
     "metadata": {},
     "output_type": "execute_result"
    }
   ],
   "source": [
    "E_gs[0]"
   ]
  },
  {
   "cell_type": "code",
   "execution_count": 71,
   "id": "48674563",
   "metadata": {},
   "outputs": [
    {
     "data": {
      "text/plain": [
       "(0.8660254037844386,\n",
       " 0.5000000000000001,\n",
       " -18.374663708562185,\n",
       " -18.171792678362237,\n",
       " -18.201999740442137)"
      ]
     },
     "execution_count": 71,
     "metadata": {},
     "output_type": "execute_result"
    }
   ],
   "source": [
    "(J[0],J[1],E_gs[0], energy[-1], energy_RBM[-1])"
   ]
  },
  {
   "cell_type": "code",
   "execution_count": null,
   "id": "aaab81c8",
   "metadata": {},
   "outputs": [],
   "source": []
  }
 ],
 "metadata": {
  "kernelspec": {
   "display_name": "Python 3 (ipykernel)",
   "language": "python",
   "name": "python3"
  },
  "language_info": {
   "codemirror_mode": {
    "name": "ipython",
    "version": 3
   },
   "file_extension": ".py",
   "mimetype": "text/x-python",
   "name": "python",
   "nbconvert_exporter": "python",
   "pygments_lexer": "ipython3",
   "version": "3.10.12"
  }
 },
 "nbformat": 4,
 "nbformat_minor": 5
}
