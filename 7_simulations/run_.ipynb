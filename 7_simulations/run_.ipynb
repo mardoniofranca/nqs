{
 "cells": [
  {
   "cell_type": "markdown",
   "id": "2646985b",
   "metadata": {},
   "source": [
    "### 1. Configurations"
   ]
  },
  {
   "cell_type": "code",
   "execution_count": 27,
   "id": "23999ba1",
   "metadata": {},
   "outputs": [],
   "source": [
    "import os\n",
    "os.environ[\"JAX_PLATFORM_NAME\"] = \"cpu\"\n",
    "import netket as nk\n",
    "import numpy as np\n",
    "import matplotlib.pyplot as plt\n",
    "import matplotlib\n",
    "from matplotlib.offsetbox import AnchoredText\n",
    "import json\n",
    "import netket.nn as nknn\n",
    "import flax.linen as nn\n",
    "import jax.numpy as jnp\n",
    "import warnings\n",
    "warnings.filterwarnings('ignore')\n",
    "import pandas as pd\n",
    "import math \n",
    "import time"
   ]
  },
  {
   "cell_type": "code",
   "execution_count": 28,
   "id": "dea1cb11",
   "metadata": {},
   "outputs": [],
   "source": [
    "def graph(L):\n",
    "    # Define custom graph\n",
    "    edge_colors = []\n",
    "    for i in range(L):\n",
    "        edge_colors.append([i, (i+1)%L, 1])\n",
    "        edge_colors.append([i, (i+2)%L, 2])\n",
    "    # Define the netket graph object\n",
    "    g = nk.graph.Graph(edges=edge_colors)    \n",
    "    return g "
   ]
  },
  {
   "cell_type": "code",
   "execution_count": 29,
   "id": "abf5341e",
   "metadata": {},
   "outputs": [],
   "source": [
    "def bonds(J):\n",
    "    #Sigma^z*Sigma^z interactions\n",
    "    sigmaz = [[1, 0], [0, -1]]\n",
    "    mszsz = (np.kron(sigmaz, sigmaz))\n",
    "\n",
    "    #Exchange interactions\n",
    "    exchange = np.asarray([[0, 0, 0, 0], [0, 0, 2, 0], [0, 2, 0, 0], [0, 0, 0, 0]])\n",
    "\n",
    "    bond_operator = [\n",
    "        (J[0] * mszsz).tolist(),\n",
    "        (J[1] * mszsz).tolist(),\n",
    "        (-J[0] * exchange).tolist(),  \n",
    "        (J[1] * exchange).tolist(),\n",
    "    ]\n",
    "\n",
    "    bond_color = [1, 2, 1, 2]\n",
    "    \n",
    "    return bond_operator, bond_color"
   ]
  },
  {
   "cell_type": "code",
   "execution_count": 30,
   "id": "e195e1b5",
   "metadata": {},
   "outputs": [],
   "source": [
    "def operators(g,bond_operator,bond_color):\n",
    "     \n",
    "    # Spin based Hilbert Space\n",
    "    hi = nk.hilbert.Spin(s=0.5, total_sz=0.0, N=g.n_nodes)\n",
    "    \n",
    "    # Custom Hamiltonian operator\n",
    "    op = nk.operator.GraphOperator(hi, graph=g, bond_ops=bond_operator, bond_ops_colors=bond_color)\n",
    "    \n",
    "    return hi,op"
   ]
  },
  {
   "cell_type": "code",
   "execution_count": 42,
   "id": "edcb373e",
   "metadata": {},
   "outputs": [],
   "source": [
    "def run(i,w,rad,J,size,net,n_it,alpha):\n",
    "    \n",
    "    PARAM                      = i\n",
    "    \n",
    "    g                          = graph(size)\n",
    "    \n",
    "    bond_operator, bond_color  = bonds(J)\n",
    "     \n",
    "    hi,op                      = operators(g,bond_operator,bond_color)\n",
    "   \n",
    "        \n",
    "    ma = nk.models.RBM(alpha=alpha)\n",
    "\n",
    "    # Build the sampler\n",
    "    sa = nk.sampler.MetropolisExchange(hilbert=hi,graph=g)\n",
    "\n",
    "    # Custom Hamiltonian operator\n",
    "    op = nk.operator.GraphOperator(hi, graph=g, bond_ops=bond_operator, bond_ops_colors=bond_color)\n",
    "\n",
    "    # Optimizer\n",
    "    opt = nk.optimizer.Sgd(learning_rate=0.01)\n",
    "\n",
    "    # Stochastic Reconfiguration\n",
    "    sr = nk.optimizer.SR(diag_shift=0.1)\n",
    "\n",
    "    # The variational state\n",
    "    vs = nk.vqs.MCState(sa, ma, n_samples=2000)\n",
    "\n",
    "    # The ground-state optimization loop\n",
    "    gs = nk.VMC(\n",
    "        hamiltonian=op,\n",
    "        optimizer=opt,\n",
    "        preconditioner=sr,\n",
    "        variational_state=vs)\n",
    "\n",
    "    # We need to specify the local operators as a matrix acting on a local Hilbert space \n",
    "    sf = []\n",
    "    sites = []\n",
    "    structure_factor = nk.operator.LocalOperator(hi, dtype=complex)\n",
    "    for i in range(0, size):\n",
    "        for j in range(0, size):\n",
    "            structure_factor += (nk.operator.spin.sigmaz(hi, i)*nk.operator.spin.sigmaz(hi, j))*((-1)**(i-j))/size\n",
    "      \n",
    "    \n",
    "    print('### RBM calculation')\n",
    "    # Run the optimization protocol\n",
    "    param_file =\"log/\" + str(PARAM) + \"_\" + str(size) + \"_\" + str(n_it) +  \"_\" + str(net)\n",
    "    \n",
    "    gs.run(out=param_file, n_iter=n_it, obs={'Structure Factor': structure_factor})\n",
    "\n",
    "    data=json.load(open(param_file + \".log\"))\n",
    "    # Extract the relevant information\n",
    "    iters_RBM = data[\"Energy\"][\"iters\"]\n",
    "    energy_RBM = data[\"Energy\"][\"Mean\"]\n",
    "    \n",
    "    \n",
    "    E_gs, ket_gs = nk.exact.lanczos_ed(op, compute_eigenvectors=True)\n",
    "    structure_factor_gs = (ket_gs.T.conj()@structure_factor.to_linear_operator()@ket_gs).real[0,0]\n",
    "    \n",
    "    j1 = J[0]\n",
    "    j2 = J[1]\n",
    "    \n",
    "    l = [PARAM,w,rad,j1,j2,structure_factor_gs,E_gs[0],iters_RBM[-1],energy_RBM[-1]]\n",
    "    \n",
    "    v = []\n",
    "    \n",
    "    v.append(l)\n",
    "        \n",
    "    df   = pd.DataFrame(v, columns=['i', 'w','rad','j1', 'j2', 'factor_e', 'exact_e_0', 'factor_c', 'calc_e_0'])\n",
    "    \n",
    "    param_file = \"data/\" + str(PARAM) + \"_\" + str(size) + \"_\" + str(n_it) + \"_\" + str(net) + \".csv\"\n",
    "    \n",
    "    df.to_csv(param_file, index=None)\n",
    "    \n",
    "    print(df)\n",
    "    "
   ]
  },
  {
   "cell_type": "markdown",
   "id": "1958a877",
   "metadata": {},
   "source": [
    "### 2. Run"
   ]
  },
  {
   "cell_type": "markdown",
   "id": "548ed448",
   "metadata": {},
   "source": [
    "The transition occurs at J2/J1, = 0.2411(1) (w = 0.2366 (Okamoto and Nomura 1992))"
   ]
  },
  {
   "cell_type": "code",
   "execution_count": 32,
   "id": "8b5b74e8",
   "metadata": {},
   "outputs": [],
   "source": [
    "import numpy as np"
   ]
  },
  {
   "cell_type": "code",
   "execution_count": 33,
   "id": "276d83d7",
   "metadata": {},
   "outputs": [],
   "source": [
    "import math  "
   ]
  },
  {
   "cell_type": "code",
   "execution_count": 34,
   "id": "7986e858",
   "metadata": {},
   "outputs": [
    {
     "data": {
      "text/plain": [
       "(0.5235987755982988,\n",
       " 0.49999999999999994,\n",
       " 0.8660254037844387,\n",
       " 0.5773502691896257,\n",
       " 0.5773502691896256,\n",
       " 1.7320508075688776,\n",
       " 1.7320508075688774)"
      ]
     },
     "execution_count": 34,
     "metadata": {},
     "output_type": "execute_result"
    }
   ],
   "source": [
    "w = 30\n",
    "rad = math.radians(w)\n",
    "(rad,math.sin(rad), \n",
    " math.cos(rad), \n",
    " math.tan(rad), \n",
    " math.sin(rad)/math.cos(rad), \n",
    " math.cos(rad)/math.sin(rad),\n",
    " 1/math.tan(rad))"
   ]
  },
  {
   "cell_type": "code",
   "execution_count": 35,
   "id": "9f7847bd",
   "metadata": {},
   "outputs": [
    {
     "data": {
      "text/plain": [
       "0.5235987755982988"
      ]
     },
     "execution_count": 35,
     "metadata": {},
     "output_type": "execute_result"
    }
   ],
   "source": [
    "math.atan(1/1.7320508075688774)"
   ]
  },
  {
   "cell_type": "code",
   "execution_count": 36,
   "id": "628cc510",
   "metadata": {},
   "outputs": [
    {
     "data": {
      "text/plain": [
       "29.999999999999996"
      ]
     },
     "execution_count": 36,
     "metadata": {},
     "output_type": "execute_result"
    }
   ],
   "source": [
    "math.degrees(math.atan(0.5773502691896257)) "
   ]
  },
  {
   "cell_type": "code",
   "execution_count": 37,
   "id": "032fa623",
   "metadata": {},
   "outputs": [
    {
     "data": {
      "text/plain": [
       "30.0"
      ]
     },
     "execution_count": 37,
     "metadata": {},
     "output_type": "execute_result"
    }
   ],
   "source": [
    "round(29.9999,2)"
   ]
  },
  {
   "cell_type": "code",
   "execution_count": 38,
   "id": "503015dd",
   "metadata": {},
   "outputs": [],
   "source": [
    "#j2/j1 = 0.2411"
   ]
  },
  {
   "cell_type": "code",
   "execution_count": 39,
   "id": "109f38bf",
   "metadata": {},
   "outputs": [
    {
     "data": {
      "text/plain": [
       "76.44468880110787"
      ]
     },
     "execution_count": 39,
     "metadata": {},
     "output_type": "execute_result"
    }
   ],
   "source": [
    "math.degrees(math.atan(1/0.2411))"
   ]
  },
  {
   "cell_type": "code",
   "execution_count": null,
   "id": "850e3240",
   "metadata": {},
   "outputs": [],
   "source": []
  },
  {
   "cell_type": "code",
   "execution_count": null,
   "id": "c642a4e4",
   "metadata": {},
   "outputs": [],
   "source": []
  },
  {
   "cell_type": "code",
   "execution_count": null,
   "id": "626fa818",
   "metadata": {},
   "outputs": [],
   "source": []
  },
  {
   "cell_type": "code",
   "execution_count": 40,
   "id": "8012acaf",
   "metadata": {},
   "outputs": [
    {
     "data": {
      "text/plain": [
       "0.4636476090008061"
      ]
     },
     "execution_count": 40,
     "metadata": {},
     "output_type": "execute_result"
    }
   ],
   "source": [
    "w = 1/2  \n",
    "math.atan(w)"
   ]
  },
  {
   "cell_type": "code",
   "execution_count": 43,
   "id": "5013588e",
   "metadata": {},
   "outputs": [
    {
     "name": "stdout",
     "output_type": "stream",
     "text": [
      "### RBM calculation\n"
     ]
    },
    {
     "name": "stderr",
     "output_type": "stream",
     "text": [
      "100%|█| 1200/1200 [00:20<00:00, 58.49it/s, Energy=-9.848036 ± 0.000011 [σ²=0.000\n"
     ]
    },
    {
     "name": "stdout",
     "output_type": "stream",
     "text": [
      "   i   w       rad       j1        j2  factor_e  exact_e_0  factor_c  calc_e_0\n",
      "0  0  77  1.343904  0.97437  0.224951   3.00753  -9.848026      1199 -9.848036\n"
     ]
    }
   ],
   "source": [
    "w     = 77\n",
    "pi    = math.pi\n",
    "size  = 6 \n",
    "net   = 'RBM'\n",
    "n_it  = 1200\n",
    "alpha = 3 # RBM ansatz with alpha=10  \n",
    "i     = 0\n",
    "\n",
    "rad = math.radians(w)\n",
    "sin = math.sin(rad)\n",
    "cos = math.cos(rad)\n",
    "j1  = sin\n",
    "j2  = cos\n",
    "\n",
    "J     = [j1,j2]\n",
    "run(i,w,rad,J,size,net,n_it,1)"
   ]
  },
  {
   "cell_type": "code",
   "execution_count": 44,
   "id": "c33e77b8",
   "metadata": {},
   "outputs": [
    {
     "name": "stdout",
     "output_type": "stream",
     "text": [
      "### RBM calculation\n"
     ]
    },
    {
     "name": "stderr",
     "output_type": "stream",
     "text": [
      "100%|█| 1200/1200 [00:20<00:00, 58.22it/s, Energy=-8.953771 ± 0.000011 [σ²=0.000\n"
     ]
    },
    {
     "name": "stdout",
     "output_type": "stream",
     "text": [
      "    i   w      rad        j1       j2  factor_e  exact_e_0  factor_c  calc_e_0\n",
      "0  70  70  1.22173  0.939693  0.34202  2.920382  -8.953768      1199 -8.953771\n",
      "### RBM calculation\n"
     ]
    },
    {
     "name": "stderr",
     "output_type": "stream",
     "text": [
      "100%|█| 1200/1200 [00:21<00:00, 56.92it/s, Energy=-9.0868007 ± 0.0000092 [σ²=0.0\n"
     ]
    },
    {
     "name": "stdout",
     "output_type": "stream",
     "text": [
      "    i   w       rad        j1        j2  factor_e  exact_e_0  factor_c  \\\n",
      "0  71  71  1.239184  0.945519  0.325568  2.934938  -9.086815      1199   \n",
      "\n",
      "   calc_e_0  \n",
      "0 -9.086801  \n",
      "### RBM calculation\n"
     ]
    },
    {
     "name": "stderr",
     "output_type": "stream",
     "text": [
      "100%|█| 1200/1200 [00:20<00:00, 57.63it/s, Energy=-9.218262 ± 0.000019 [σ²=0.000\n"
     ]
    },
    {
     "name": "stdout",
     "output_type": "stream",
     "text": [
      "    i   w       rad        j1        j2  factor_e  exact_e_0  factor_c  \\\n",
      "0  72  72  1.256637  0.951057  0.309017  2.948702   -9.21827      1199   \n",
      "\n",
      "   calc_e_0  \n",
      "0 -9.218262  \n",
      "### RBM calculation\n"
     ]
    },
    {
     "name": "stderr",
     "output_type": "stream",
     "text": [
      "100%|█| 1200/1200 [00:21<00:00, 55.95it/s, Energy=-9.347939 ± 0.000042 [σ²=0.000\n"
     ]
    },
    {
     "name": "stdout",
     "output_type": "stream",
     "text": [
      "    i   w      rad        j1        j2  factor_e  exact_e_0  factor_c  \\\n",
      "0  73  73  1.27409  0.956305  0.292372  2.961733  -9.348022      1199   \n",
      "\n",
      "   calc_e_0  \n",
      "0 -9.347939  \n",
      "### RBM calculation\n"
     ]
    },
    {
     "name": "stderr",
     "output_type": "stream",
     "text": [
      "100%|█| 1200/1200 [00:21<00:00, 57.12it/s, Energy=-9.4759740 ± 0.0000056 [σ²=0.0\n"
     ]
    },
    {
     "name": "stdout",
     "output_type": "stream",
     "text": [
      "    i   w       rad        j1        j2  factor_e  exact_e_0  factor_c  \\\n",
      "0  74  74  1.291544  0.961262  0.275637  2.974085   -9.47597      1199   \n",
      "\n",
      "   calc_e_0  \n",
      "0 -9.475974  \n",
      "### RBM calculation\n"
     ]
    },
    {
     "name": "stderr",
     "output_type": "stream",
     "text": [
      "100%|█| 1200/1200 [00:20<00:00, 57.22it/s, Energy=-9.602032 ± 0.000031 [σ²=0.000\n"
     ]
    },
    {
     "name": "stdout",
     "output_type": "stream",
     "text": [
      "    i   w       rad        j1        j2  factor_e  exact_e_0  factor_c  \\\n",
      "0  75  75  1.308997  0.965926  0.258819  2.985805  -9.602013      1199   \n",
      "\n",
      "   calc_e_0  \n",
      "0 -9.602032  \n",
      "### RBM calculation\n"
     ]
    },
    {
     "name": "stderr",
     "output_type": "stream",
     "text": [
      "100%|█| 1200/1200 [00:20<00:00, 58.82it/s, Energy=-9.726172 ± 0.000091 [σ²=0.000\n"
     ]
    },
    {
     "name": "stdout",
     "output_type": "stream",
     "text": [
      "    i   w      rad        j1        j2  factor_e  exact_e_0  factor_c  \\\n",
      "0  76  76  1.32645  0.970296  0.241922   2.99694  -9.726061      1199   \n",
      "\n",
      "   calc_e_0  \n",
      "0 -9.726172  \n",
      "### RBM calculation\n"
     ]
    },
    {
     "name": "stderr",
     "output_type": "stream",
     "text": [
      "100%|█| 1200/1200 [00:20<00:00, 58.24it/s, Energy=-9.848023 ± 0.000044 [σ²=0.000\n"
     ]
    },
    {
     "name": "stdout",
     "output_type": "stream",
     "text": [
      "    i   w       rad       j1        j2  factor_e  exact_e_0  factor_c  \\\n",
      "0  77  77  1.343904  0.97437  0.224951   3.00753  -9.848026      1199   \n",
      "\n",
      "   calc_e_0  \n",
      "0 -9.848023  \n",
      "### RBM calculation\n"
     ]
    },
    {
     "name": "stderr",
     "output_type": "stream",
     "text": [
      "100%|█| 1200/1200 [00:21<00:00, 56.49it/s, Energy=-9.967829 ± 0.000014 [σ²=0.000\n"
     ]
    },
    {
     "name": "stdout",
     "output_type": "stream",
     "text": [
      "    i   w       rad        j1        j2  factor_e  exact_e_0  factor_c  \\\n",
      "0  78  78  1.361357  0.978148  0.207912  3.017614  -9.967823      1199   \n",
      "\n",
      "   calc_e_0  \n",
      "0 -9.967829  \n",
      "### RBM calculation\n"
     ]
    },
    {
     "name": "stderr",
     "output_type": "stream",
     "text": [
      "100%|█| 1200/1200 [00:20<00:00, 57.26it/s, Energy=-10.085345 ± 0.000023 [σ²=0.00\n"
     ]
    },
    {
     "name": "stdout",
     "output_type": "stream",
     "text": [
      "    i   w      rad        j1        j2  factor_e  exact_e_0  factor_c  \\\n",
      "0  79  79  1.37881  0.981627  0.190809  3.027226 -10.085375      1199   \n",
      "\n",
      "    calc_e_0  \n",
      "0 -10.085345  \n",
      "### RBM calculation\n"
     ]
    },
    {
     "name": "stderr",
     "output_type": "stream",
     "text": [
      "100%|█| 1200/1200 [00:21<00:00, 56.69it/s, Energy=-10.200595 ± 0.000017 [σ²=0.00\n"
     ]
    },
    {
     "name": "stdout",
     "output_type": "stream",
     "text": [
      "    i   w       rad        j1        j2  factor_e  exact_e_0  factor_c  \\\n",
      "0  80  80  1.396263  0.984808  0.173648  3.036398 -10.200606      1199   \n",
      "\n",
      "    calc_e_0  \n",
      "0 -10.200595  \n",
      "### RBM calculation\n"
     ]
    },
    {
     "name": "stderr",
     "output_type": "stream",
     "text": [
      "100%|█| 1200/1200 [00:21<00:00, 56.82it/s, Energy=-10.3134455 ± 0.0000057 [σ²=0.\n"
     ]
    },
    {
     "name": "stdout",
     "output_type": "stream",
     "text": [
      "    i   w       rad        j1        j2  factor_e  exact_e_0  factor_c  \\\n",
      "0  81  81  1.413717  0.987688  0.156434   3.04516 -10.313445      1199   \n",
      "\n",
      "    calc_e_0  \n",
      "0 -10.313445  \n",
      "### RBM calculation\n"
     ]
    },
    {
     "name": "stderr",
     "output_type": "stream",
     "text": [
      "100%|█| 1200/1200 [00:20<00:00, 57.40it/s, Energy=-10.423879 ± 0.000029 [σ²=0.00\n"
     ]
    },
    {
     "name": "stdout",
     "output_type": "stream",
     "text": [
      "    i   w      rad        j1        j2  factor_e  exact_e_0  factor_c  \\\n",
      "0  82  82  1.43117  0.990268  0.139173  3.053539 -10.423823      1199   \n",
      "\n",
      "    calc_e_0  \n",
      "0 -10.423879  \n",
      "### RBM calculation\n"
     ]
    },
    {
     "name": "stderr",
     "output_type": "stream",
     "text": [
      "100%|█| 1200/1200 [00:21<00:00, 56.85it/s, Energy=-10.531593 ± 0.000031 [σ²=0.00\n"
     ]
    },
    {
     "name": "stdout",
     "output_type": "stream",
     "text": [
      "    i   w       rad        j1        j2  factor_e  exact_e_0  factor_c  \\\n",
      "0  83  83  1.448623  0.992546  0.121869   3.06156 -10.531677      1199   \n",
      "\n",
      "    calc_e_0  \n",
      "0 -10.531593  \n",
      "### RBM calculation\n"
     ]
    },
    {
     "name": "stderr",
     "output_type": "stream",
     "text": [
      "100%|█| 1200/1200 [00:26<00:00, 45.56it/s, Energy=-10.6369592 ± 0.0000089 [σ²=0.\n"
     ]
    },
    {
     "name": "stdout",
     "output_type": "stream",
     "text": [
      "    i   w       rad        j1        j2  factor_e  exact_e_0  factor_c  \\\n",
      "0  84  84  1.466077  0.994522  0.104528  3.069245 -10.636943      1199   \n",
      "\n",
      "    calc_e_0  \n",
      "0 -10.636959  \n",
      "### RBM calculation\n"
     ]
    },
    {
     "name": "stderr",
     "output_type": "stream",
     "text": [
      "100%|█| 1200/1200 [00:19<00:00, 60.97it/s, Energy=-10.739589 ± 0.000027 [σ²=0.00\n"
     ]
    },
    {
     "name": "stdout",
     "output_type": "stream",
     "text": [
      "    i   w      rad        j1        j2  factor_e  exact_e_0  factor_c  \\\n",
      "0  85  85  1.48353  0.996195  0.087156  3.076616 -10.739564      1199   \n",
      "\n",
      "    calc_e_0  \n",
      "0 -10.739589  \n",
      "### RBM calculation\n"
     ]
    },
    {
     "name": "stderr",
     "output_type": "stream",
     "text": [
      "100%|█| 1200/1200 [06:10<00:00,  3.23it/s, Energy=-10.839473 ± 0.000038 [σ²=0.00\n"
     ]
    },
    {
     "name": "stdout",
     "output_type": "stream",
     "text": [
      "    i   w       rad        j1        j2  factor_e  exact_e_0  factor_c  \\\n",
      "0  86  86  1.500983  0.997564  0.069756  3.083693 -10.839483      1199   \n",
      "\n",
      "    calc_e_0  \n",
      "0 -10.839473  \n",
      "### RBM calculation\n"
     ]
    },
    {
     "name": "stderr",
     "output_type": "stream",
     "text": [
      "100%|█| 1200/1200 [00:19<00:00, 61.20it/s, Energy=-10.936640 ± 0.000028 [σ²=0.00\n"
     ]
    },
    {
     "name": "stdout",
     "output_type": "stream",
     "text": [
      "    i   w       rad       j1        j2  factor_e  exact_e_0  factor_c  \\\n",
      "0  87  87  1.518436  0.99863  0.052336  3.090494 -10.936647      1199   \n",
      "\n",
      "   calc_e_0  \n",
      "0 -10.93664  \n",
      "### RBM calculation\n"
     ]
    },
    {
     "name": "stderr",
     "output_type": "stream",
     "text": [
      "100%|█| 1200/1200 [32:13<00:00,  1.61s/it, Energy=-11.030992 ± 0.000028 [σ²=0.00\n"
     ]
    },
    {
     "name": "stdout",
     "output_type": "stream",
     "text": [
      "    i   w      rad        j1        j2  factor_e  exact_e_0  factor_c  \\\n",
      "0  88  88  1.53589  0.999391  0.034899  3.097035 -11.031003      1199   \n",
      "\n",
      "    calc_e_0  \n",
      "0 -11.030992  \n",
      "### RBM calculation\n"
     ]
    },
    {
     "name": "stderr",
     "output_type": "stream",
     "text": [
      "100%|█| 1200/1200 [3:41:30<00:00, 11.08s/it, Energy=-11.122499 ± 0.000018 [σ²=0.\n"
     ]
    },
    {
     "name": "stdout",
     "output_type": "stream",
     "text": [
      "    i   w       rad        j1        j2  factor_e  exact_e_0  factor_c  \\\n",
      "0  89  89  1.553343  0.999848  0.017452  3.103332 -11.122504      1199   \n",
      "\n",
      "    calc_e_0  \n",
      "0 -11.122499  \n"
     ]
    }
   ],
   "source": [
    "w     = 70\n",
    "limit = 90\n",
    "pi    = math.pi\n",
    "size  = 6 \n",
    "net   = 'RBM'\n",
    "n_it  = 1200\n",
    "alpha = 5 # RBM ansatz with alpha=10\n",
    "\n",
    "for i in range(w,limit):\n",
    "    rad = math.radians(w)\n",
    "    sin = math.sin(rad)\n",
    "    cos = math.cos(rad)\n",
    "    j1  = sin\n",
    "    j2  = cos\n",
    "    J     = [j1,j2]\n",
    "    run(i,w,rad,J,size,net,n_it,1)\n",
    "    w   = w + 1"
   ]
  },
  {
   "cell_type": "code",
   "execution_count": null,
   "id": "f11d0c40",
   "metadata": {},
   "outputs": [],
   "source": []
  }
 ],
 "metadata": {
  "kernelspec": {
   "display_name": "Python 3 (ipykernel)",
   "language": "python",
   "name": "python3"
  },
  "language_info": {
   "codemirror_mode": {
    "name": "ipython",
    "version": 3
   },
   "file_extension": ".py",
   "mimetype": "text/x-python",
   "name": "python",
   "nbconvert_exporter": "python",
   "pygments_lexer": "ipython3",
   "version": "3.10.12"
  }
 },
 "nbformat": 4,
 "nbformat_minor": 5
}
