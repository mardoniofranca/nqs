{
 "cells": [
  {
   "cell_type": "markdown",
   "id": "2646985b",
   "metadata": {},
   "source": [
    "### 1. Configurations"
   ]
  },
  {
   "cell_type": "code",
   "execution_count": 1,
   "id": "23999ba1",
   "metadata": {},
   "outputs": [],
   "source": [
    "import os\n",
    "os.environ[\"JAX_PLATFORM_NAME\"] = \"cpu\"\n",
    "import netket as nk\n",
    "import numpy as np\n",
    "import matplotlib.pyplot as plt\n",
    "import matplotlib\n",
    "from matplotlib.offsetbox import AnchoredText\n",
    "import json\n",
    "import netket.nn as nknn\n",
    "import flax.linen as nn\n",
    "import jax.numpy as jnp\n",
    "import warnings\n",
    "warnings.filterwarnings('ignore')\n",
    "import pandas as pd\n",
    "import math "
   ]
  },
  {
   "cell_type": "code",
   "execution_count": 2,
   "id": "4a3ce91d",
   "metadata": {},
   "outputs": [],
   "source": [
    "class FFNN(nn.Module):\n",
    "    @nn.compact\n",
    "    def __call__(self, x):\n",
    "        x = nn.Dense(features=2*x.shape[-1], \n",
    "                     use_bias=True, \n",
    "                     param_dtype=np.complex128, \n",
    "                     kernel_init=nn.initializers.normal(stddev=0.01), \n",
    "                     bias_init=nn.initializers.normal(stddev=0.01)\n",
    "                    )(x)\n",
    "        x = nknn.log_cosh(x)\n",
    "        x = jnp.sum(x, axis=-1)\n",
    "        return x"
   ]
  },
  {
   "cell_type": "code",
   "execution_count": 10,
   "id": "26081a24",
   "metadata": {},
   "outputs": [],
   "source": [
    "def graph(L):\n",
    "    # Define custom graph\n",
    "    edge_colors = []\n",
    "    for i in range(L):\n",
    "        edge_colors.append([i, (i+1)%L, 1])\n",
    "        edge_colors.append([i, (i+2)%L, 2])\n",
    "    # Define the netket graph object\n",
    "    g = nk.graph.Graph(edges=edge_colors)    \n",
    "    return g "
   ]
  },
  {
   "cell_type": "code",
   "execution_count": 6,
   "id": "71396fe5",
   "metadata": {},
   "outputs": [],
   "source": [
    "def bonds(J):\n",
    "    #Sigma^z*Sigma^z interactions\n",
    "    sigmaz = [[1, 0], [0, -1]]\n",
    "    mszsz = (np.kron(sigmaz, sigmaz))\n",
    "\n",
    "    #Exchange interactions\n",
    "    exchange = np.asarray([[0, 0, 0, 0], [0, 0, 2, 0], [0, 2, 0, 0], [0, 0, 0, 0]])\n",
    "\n",
    "    bond_operator = [\n",
    "        (J[0] * mszsz).tolist(),\n",
    "        (J[1] * mszsz).tolist(),\n",
    "        (-J[0] * exchange).tolist(),  \n",
    "        (J[1] * exchange).tolist(),\n",
    "    ]\n",
    "\n",
    "    bond_color = [1, 2, 1, 2]\n",
    "    \n",
    "    return bond_operator, bond_color"
   ]
  },
  {
   "cell_type": "code",
   "execution_count": 29,
   "id": "3ea0d1e2",
   "metadata": {},
   "outputs": [],
   "source": [
    "def operators(g,bond_operator,bond_color):\n",
    "     \n",
    "    # Spin based Hilbert Space\n",
    "    hi = nk.hilbert.Spin(s=0.5, total_sz=0.0, N=g.n_nodes)\n",
    "    \n",
    "    # Custom Hamiltonian operator\n",
    "    op = nk.operator.GraphOperator(hi, graph=g, bond_ops=bond_operator, bond_ops_colors=bond_color)\n",
    "    \n",
    "    return hi,op"
   ]
  },
  {
   "cell_type": "code",
   "execution_count": 46,
   "id": "edcb373e",
   "metadata": {},
   "outputs": [],
   "source": [
    "def run(i,w,rad,J,size,net,n_it):\n",
    "    \n",
    "    PARAM                      = i\n",
    "    \n",
    "    g                          = graph(size)\n",
    "    \n",
    "    bond_operator, bond_color  = bonds(J)\n",
    "     \n",
    "    hi,op                      = operators(g,bond_operator,bond_color)\n",
    "   \n",
    "    \n",
    "    model = FFNN() #Neural Network\n",
    "    \n",
    "    # We shall use an exchange Sampler which preserves the global magnetization (as this is a conserved quantity in the model)\n",
    "    sa = nk.sampler.MetropolisExchange(hilbert=hi, graph=g, d_max = 2)\n",
    "\n",
    "    # Construct the variational state\n",
    "    vs = nk.vqs.MCState(sa, model, n_samples=1008) #use model\n",
    "\n",
    "    # We choose a basic, albeit important, Optimizer: the Stochastic Gradient Descent\n",
    "    opt = nk.optimizer.Sgd(learning_rate=0.01)\n",
    "\n",
    "    # Stochastic Reconfiguration\n",
    "    sr = nk.optimizer.SR(diag_shift=0.01)\n",
    "\n",
    "    # We can then specify a Variational Monte Carlo object, using the Hamiltonian, sampler and optimizers chosen.\n",
    "    # Note that we also specify the method to learn the parameters of the wave-function: here we choose the efficient\n",
    "    # Stochastic reconfiguration (Sr), here in an iterative setup\n",
    "    gs = nk.VMC(hamiltonian=op, optimizer=opt, variational_state=vs, preconditioner=sr) #use vs\n",
    "    \n",
    "    \n",
    "    # We need to specify the local operators as a matrix acting on a local Hilbert space \n",
    "    sf = []\n",
    "    sites = []\n",
    "    structure_factor = nk.operator.LocalOperator(hi, dtype=complex)\n",
    "    for i in range(0, size):\n",
    "        for j in range(0, size):\n",
    "            structure_factor += (nk.operator.spin.sigmaz(hi, i)*nk.operator.spin.sigmaz(hi, j))*((-1)**(i-j))/size\n",
    "            \n",
    "    # Run the optimization protocol\n",
    "    param_file =\"log/\" + str(PARAM) + \"_\" + str(size) + \"_\" + str(n_it)\n",
    "    gs.run(out=param_file, n_iter=n_it, obs={'Structure Factor': structure_factor})\n",
    "    \n",
    "    data=json.load(open(param_file + \".log\"))\n",
    "    iters = data['Energy']['iters']\n",
    "    energy=data['Energy']['Mean']['real']\n",
    "    sf=data['Structure Factor']['Mean']['real']\n",
    "    \n",
    "    E_gs, ket_gs = nk.exact.lanczos_ed(op, compute_eigenvectors=True)\n",
    "    structure_factor_gs = (ket_gs.T.conj()@structure_factor.to_linear_operator()@ket_gs).real[0,0]\n",
    "    \n",
    "    #print(PARAM,w,j1,j2,structure_factor_gs, E_gs[0], np.mean(sf[-1:]), np.mean(energy[-1:]))\n",
    "    \n",
    "    l = [PARAM,w,rad,j1,j2,structure_factor_gs,  E_gs[0], np.mean(sf[-1:]), np.mean(energy[-1:])]\n",
    "    \n",
    "    v = []\n",
    "    \n",
    "    v.append(l)\n",
    "        \n",
    "    df   = pd.DataFrame(v, columns=['i', 'w','rad','j1', 'j2', 'factor_e', 'exact_e_0', 'factor_c', 'calc_e_0'])\n",
    "    \n",
    "    \n",
    "    param_file = \"data/\" + str(PARAM) + \"_\" + str(size) + \"_\" + str(n_it) + \"_\" + str(net) + \".csv\"\n",
    "    \n",
    "    df.to_csv(param_file, index=None)\n",
    "    \n",
    "    print(df)\n",
    "    "
   ]
  },
  {
   "cell_type": "markdown",
   "id": "1958a877",
   "metadata": {},
   "source": [
    "### 2. Run"
   ]
  },
  {
   "cell_type": "code",
   "execution_count": 48,
   "id": "5013588e",
   "metadata": {},
   "outputs": [
    {
     "name": "stderr",
     "output_type": "stream",
     "text": [
      "100%|█| 10/10 [00:00<00:00, 10.88it/s, Energy=14.0002-0.0001j ± 0.0020 [σ²=0.004\n"
     ]
    },
    {
     "name": "stdout",
     "output_type": "stream",
     "text": [
      "   i  w  rad   j1   j2  factor_e  exact_e_0  factor_c   calc_e_0\n",
      "0  0  0  0.0  0.0  1.0  0.285714 -22.841434  1.049887  14.000239\n"
     ]
    },
    {
     "name": "stderr",
     "output_type": "stream",
     "text": [
      "100%|█| 10/10 [00:01<00:00,  9.81it/s, Energy=13.7188-0.0021j ± 0.0052 [σ²=0.027\n"
     ]
    },
    {
     "name": "stdout",
     "output_type": "stream",
     "text": [
      "   i  w       rad        j1        j2  factor_e  exact_e_0  factor_c  calc_e_0\n",
      "0  1  1  0.017453  0.017452  0.999848  0.285719 -22.888452  1.049887   13.7188\n"
     ]
    }
   ],
   "source": [
    "w     = 0\n",
    "limit = 2\n",
    "pi    = math.pi\n",
    "size  = 14  \n",
    "net   = 'FFNN'\n",
    "n_it  = 10\n",
    "for i in range(w,limit):\n",
    "    rad = math.radians(w)\n",
    "    sin = math.sin(rad)\n",
    "    cos = math.cos(rad)\n",
    "    j1  = sin\n",
    "    j2  = cos\n",
    "    J     = [j1,j2]\n",
    "    run(i,w,rad,J,size,net,n_it)\n",
    "    w   = w + 1"
   ]
  },
  {
   "cell_type": "code",
   "execution_count": null,
   "id": "b3044954",
   "metadata": {},
   "outputs": [],
   "source": []
  }
 ],
 "metadata": {
  "kernelspec": {
   "display_name": "Python 3 (ipykernel)",
   "language": "python",
   "name": "python3"
  },
  "language_info": {
   "codemirror_mode": {
    "name": "ipython",
    "version": 3
   },
   "file_extension": ".py",
   "mimetype": "text/x-python",
   "name": "python",
   "nbconvert_exporter": "python",
   "pygments_lexer": "ipython3",
   "version": "3.10.12"
  }
 },
 "nbformat": 4,
 "nbformat_minor": 5
}
