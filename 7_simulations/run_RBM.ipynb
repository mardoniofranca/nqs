{
 "cells": [
  {
   "cell_type": "markdown",
   "id": "2646985b",
   "metadata": {},
   "source": [
    "### 1. Configurations"
   ]
  },
  {
   "cell_type": "code",
   "execution_count": 1,
   "id": "23999ba1",
   "metadata": {},
   "outputs": [],
   "source": [
    "import os\n",
    "os.environ[\"JAX_PLATFORM_NAME\"] = \"cpu\"\n",
    "import netket as nk\n",
    "import numpy as np\n",
    "import matplotlib.pyplot as plt\n",
    "import matplotlib\n",
    "from matplotlib.offsetbox import AnchoredText\n",
    "import json\n",
    "import netket.nn as nknn\n",
    "import flax.linen as nn\n",
    "import jax.numpy as jnp\n",
    "import warnings\n",
    "warnings.filterwarnings('ignore')\n",
    "import pandas as pd\n",
    "import math \n",
    "import time"
   ]
  },
  {
   "cell_type": "code",
   "execution_count": 2,
   "id": "dea1cb11",
   "metadata": {},
   "outputs": [],
   "source": [
    "def graph(L):\n",
    "    # Define custom graph\n",
    "    edge_colors = []\n",
    "    for i in range(L):\n",
    "        edge_colors.append([i, (i+1)%L, 1])\n",
    "        edge_colors.append([i, (i+2)%L, 2])\n",
    "    # Define the netket graph object\n",
    "    g = nk.graph.Graph(edges=edge_colors)    \n",
    "    return g "
   ]
  },
  {
   "cell_type": "code",
   "execution_count": 3,
   "id": "abf5341e",
   "metadata": {},
   "outputs": [],
   "source": [
    "def bonds(J):\n",
    "    #Sigma^z*Sigma^z interactions\n",
    "    sigmaz = [[1, 0], [0, -1]]\n",
    "    mszsz = (np.kron(sigmaz, sigmaz))\n",
    "\n",
    "    #Exchange interactions\n",
    "    exchange = np.asarray([[0, 0, 0, 0], [0, 0, 2, 0], [0, 2, 0, 0], [0, 0, 0, 0]])\n",
    "\n",
    "    bond_operator = [\n",
    "        (J[0] * mszsz).tolist(),\n",
    "        (J[1] * mszsz).tolist(),\n",
    "        (-J[0] * exchange).tolist(),  \n",
    "        (J[1] * exchange).tolist(),\n",
    "    ]\n",
    "\n",
    "    bond_color = [1, 2, 1, 2]\n",
    "    \n",
    "    return bond_operator, bond_color"
   ]
  },
  {
   "cell_type": "code",
   "execution_count": 4,
   "id": "e195e1b5",
   "metadata": {},
   "outputs": [],
   "source": [
    "def operators(g,bond_operator,bond_color):\n",
    "     \n",
    "    # Spin based Hilbert Space\n",
    "    hi = nk.hilbert.Spin(s=0.5, total_sz=0.0, N=g.n_nodes)\n",
    "    \n",
    "    # Custom Hamiltonian operator\n",
    "    op = nk.operator.GraphOperator(hi, graph=g, bond_ops=bond_operator, bond_ops_colors=bond_color)\n",
    "    \n",
    "    return hi,op"
   ]
  },
  {
   "cell_type": "code",
   "execution_count": 5,
   "id": "edcb373e",
   "metadata": {},
   "outputs": [],
   "source": [
    "def run(i,w,rad,J,size,net,n_it,alpha):\n",
    "    \n",
    "    PARAM                      = i\n",
    "    \n",
    "    g                          = graph(size)\n",
    "    \n",
    "    bond_operator, bond_color  = bonds(J)\n",
    "     \n",
    "    hi,op                      = operators(g,bond_operator,bond_color)\n",
    "   \n",
    "        \n",
    "    ma = nk.models.RBM(alpha=alpha)\n",
    "\n",
    "    # Build the sampler\n",
    "    sa = nk.sampler.MetropolisExchange(hilbert=hi,graph=g)\n",
    "\n",
    "    # Custom Hamiltonian operator\n",
    "    op = nk.operator.GraphOperator(hi, graph=g, bond_ops=bond_operator, bond_ops_colors=bond_color)\n",
    "\n",
    "    # Optimizer\n",
    "    opt = nk.optimizer.Sgd(learning_rate=0.01)\n",
    "\n",
    "    # Stochastic Reconfiguration\n",
    "    sr = nk.optimizer.SR(diag_shift=0.1)\n",
    "\n",
    "    # The variational state\n",
    "    vs = nk.vqs.MCState(sa, ma, n_samples=2000)\n",
    "\n",
    "    # The ground-state optimization loop\n",
    "    gs = nk.VMC(\n",
    "        hamiltonian=op,\n",
    "        optimizer=opt,\n",
    "        preconditioner=sr,\n",
    "        variational_state=vs)\n",
    "\n",
    "    # We need to specify the local operators as a matrix acting on a local Hilbert space \n",
    "    sf = []\n",
    "    sites = []\n",
    "    structure_factor = nk.operator.LocalOperator(hi, dtype=complex)\n",
    "    for i in range(0, size):\n",
    "        for j in range(0, size):\n",
    "            structure_factor += (nk.operator.spin.sigmaz(hi, i)*nk.operator.spin.sigmaz(hi, j))*((-1)**(i-j))/size\n",
    "      \n",
    "    \n",
    "    print('### RBM calculation')\n",
    "    # Run the optimization protocol\n",
    "    param_file =\"log/\" + str(PARAM) + \"_\" + str(size) + \"_\" + str(n_it) +  \"_\" + str(net)\n",
    "    \n",
    "    gs.run(out=param_file, n_iter=n_it, obs={'Structure Factor': structure_factor})\n",
    "\n",
    "    data=json.load(open(param_file + \".log\"))\n",
    "    # Extract the relevant information\n",
    "    iters_RBM = data[\"Energy\"][\"iters\"]\n",
    "    energy_RBM = data[\"Energy\"][\"Mean\"]\n",
    "    \n",
    "    \n",
    "    E_gs, ket_gs = nk.exact.lanczos_ed(op, compute_eigenvectors=True)\n",
    "    structure_factor_gs = (ket_gs.T.conj()@structure_factor.to_linear_operator()@ket_gs).real[0,0]\n",
    "    \n",
    "    j1 = J[0]\n",
    "    j2 = J[1]\n",
    "    \n",
    "    l = [PARAM,w,rad,j1,j2,structure_factor_gs,E_gs[0],iters_RBM[-1],energy_RBM[-1]]\n",
    "    \n",
    "    v = []\n",
    "    \n",
    "    v.append(l)\n",
    "        \n",
    "    df   = pd.DataFrame(v, columns=['i', 'w','rad','j1', 'j2', 'factor_e', 'exact_e_0', 'factor_c', 'calc_e_0'])\n",
    "    \n",
    "    param_file = \"data/\" + str(PARAM) + \"_\" + str(size) + \"_\" + str(n_it) + \"_\" + str(net) + \".csv\"\n",
    "    \n",
    "    df.to_csv(param_file, index=None)\n",
    "    \n",
    "    print(df)\n",
    "    "
   ]
  },
  {
   "cell_type": "markdown",
   "id": "1958a877",
   "metadata": {},
   "source": [
    "### 2. Run"
   ]
  },
  {
   "cell_type": "code",
   "execution_count": 9,
   "id": "5013588e",
   "metadata": {},
   "outputs": [
    {
     "name": "stdout",
     "output_type": "stream",
     "text": [
      "### RBM calculation\n"
     ]
    },
    {
     "name": "stderr",
     "output_type": "stream",
     "text": [
      "100%|████████████████████████████████████████████████████████████████████████████████████| 1200/1200 [00:20<00:00, 59.18it/s, Energy=-6.47934 ± 0.00010 [σ²=0.00002, R̂=1.0056]]"
     ]
    },
    {
     "name": "stdout",
     "output_type": "stream",
     "text": [
      "    i   w       rad        j1       j2  factor_e  exact_e_0  factor_c  \\\n",
      "0  44  44  0.767945  0.694658  0.71934  0.666667  -8.483989      1199   \n",
      "\n",
      "   calc_e_0  \n",
      "0 -6.479336  \n"
     ]
    },
    {
     "name": "stderr",
     "output_type": "stream",
     "text": [
      "\n"
     ]
    }
   ],
   "source": [
    "w     = 44\n",
    "limit = 45\n",
    "pi    = math.pi\n",
    "size  = 6 \n",
    "net   = 'RBM'\n",
    "n_it  = 1200\n",
    "alpha = 3 # RBM ansatz with alpha=10\n",
    "\n",
    "for i in range(w,limit):\n",
    "    rad = math.radians(w)\n",
    "    sin = math.sin(rad)\n",
    "    cos = math.cos(rad)\n",
    "    j1  = sin\n",
    "    j2  = cos\n",
    "    J     = [j1,j2]\n",
    "    run(i,w,rad,J,size,net,n_it,1)\n",
    "    w   = w + 1"
   ]
  },
  {
   "cell_type": "code",
   "execution_count": 10,
   "id": "b3044954",
   "metadata": {},
   "outputs": [
    {
     "name": "stdout",
     "output_type": "stream",
     "text": [
      "### RBM calculation\n"
     ]
    },
    {
     "name": "stderr",
     "output_type": "stream",
     "text": [
      "100%|█████████████████████████████████████████████████████████████████████████████████| 1200/1200 [00:20<00:00, 59.18it/s, Energy=-6.478156 ± 0.000021 [σ²=0.000001, R̂=1.0093]]"
     ]
    },
    {
     "name": "stdout",
     "output_type": "stream",
     "text": [
      "    i   w       rad        j1       j2  factor_e  exact_e_0  factor_c  \\\n",
      "0  44  44  0.767945  0.694658  0.71934  0.666667  -8.483989      1199   \n",
      "\n",
      "   calc_e_0  \n",
      "0 -6.478156  \n"
     ]
    },
    {
     "name": "stderr",
     "output_type": "stream",
     "text": [
      "\n"
     ]
    }
   ],
   "source": [
    "w     = 44\n",
    "limit = 45\n",
    "pi    = math.pi\n",
    "size  = 6 \n",
    "net   = 'RBM'\n",
    "n_it  = 1200\n",
    "alpha = 5 # RBM ansatz with alpha=10\n",
    "\n",
    "for i in range(w,limit):\n",
    "    rad = math.radians(w)\n",
    "    sin = math.sin(rad)\n",
    "    cos = math.cos(rad)\n",
    "    j1  = sin\n",
    "    j2  = cos\n",
    "    J     = [j1,j2]\n",
    "    run(i,w,rad,J,size,net,n_it,1)\n",
    "    w   = w + 1"
   ]
  },
  {
   "cell_type": "code",
   "execution_count": 14,
   "id": "0f8b0f6d",
   "metadata": {},
   "outputs": [
    {
     "name": "stdout",
     "output_type": "stream",
     "text": [
      "### RBM calculation\n"
     ]
    },
    {
     "name": "stderr",
     "output_type": "stream",
     "text": [
      "100%|██████████████████████████████████████████████████████████████████████████████| 2400/2400 [00:39<00:00, 60.15it/s, Energy=-5.9999908 ± 0.0000096 [σ²=0.0000002, R̂=1.0043]]"
     ]
    },
    {
     "name": "stdout",
     "output_type": "stream",
     "text": [
      "     i    w       rad            j1   j2  factor_e  exact_e_0  factor_c  \\\n",
      "0  180  180  3.141593  1.224647e-16 -1.0  3.846401       -6.0      2399   \n",
      "\n",
      "   calc_e_0  \n",
      "0 -5.999991  \n"
     ]
    },
    {
     "name": "stderr",
     "output_type": "stream",
     "text": [
      "\n"
     ]
    }
   ],
   "source": [
    "w     = 180\n",
    "limit = 181\n",
    "pi    = math.pi\n",
    "size  = 6 \n",
    "net   = 'RBM'\n",
    "n_it  = 2400\n",
    "alpha = 10 # RBM ansatz with alpha=10\n",
    "\n",
    "for i in range(w,limit):\n",
    "    rad = math.radians(w)\n",
    "    sin = math.sin(rad)\n",
    "    cos = math.cos(rad)\n",
    "    j1  = sin\n",
    "    j2  = cos\n",
    "    J     = [j1,j2]\n",
    "    run(i,w,rad,J,size,net,n_it,1)\n",
    "    w   = w + 1"
   ]
  },
  {
   "cell_type": "code",
   "execution_count": null,
   "id": "7aa93312",
   "metadata": {},
   "outputs": [],
   "source": []
  }
 ],
 "metadata": {
  "kernelspec": {
   "display_name": "Python 3 (ipykernel)",
   "language": "python",
   "name": "python3"
  },
  "language_info": {
   "codemirror_mode": {
    "name": "ipython",
    "version": 3
   },
   "file_extension": ".py",
   "mimetype": "text/x-python",
   "name": "python",
   "nbconvert_exporter": "python",
   "pygments_lexer": "ipython3",
   "version": "3.10.12"
  }
 },
 "nbformat": 4,
 "nbformat_minor": 5
}
